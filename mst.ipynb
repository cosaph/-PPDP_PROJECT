{
 "cells": [
  {
   "cell_type": "code",
   "execution_count": 7,
   "metadata": {},
   "outputs": [
    {
     "ename": "ModuleNotFoundError",
     "evalue": "No module named 'snsynth'",
     "output_type": "error",
     "traceback": [
      "\u001b[1;31m---------------------------------------------------------------------------\u001b[0m",
      "\u001b[1;31mModuleNotFoundError\u001b[0m                       Traceback (most recent call last)",
      "Cell \u001b[1;32mIn[7], line 2\u001b[0m\n\u001b[0;32m      1\u001b[0m \u001b[38;5;28;01mimport\u001b[39;00m \u001b[38;5;21;01mpandas\u001b[39;00m \u001b[38;5;28;01mas\u001b[39;00m \u001b[38;5;21;01mpd\u001b[39;00m\n\u001b[1;32m----> 2\u001b[0m \u001b[38;5;28;01mfrom\u001b[39;00m \u001b[38;5;21;01msnsynth\u001b[39;00m \u001b[38;5;28;01mimport\u001b[39;00m Synthesizer\n\u001b[0;32m      3\u001b[0m \u001b[38;5;28;01mimport\u001b[39;00m \u001b[38;5;21;01mmatplotlib\u001b[39;00m\u001b[38;5;21;01m.\u001b[39;00m\u001b[38;5;21;01mpyplot\u001b[39;00m \u001b[38;5;28;01mas\u001b[39;00m \u001b[38;5;21;01mplt\u001b[39;00m\n\u001b[0;32m      4\u001b[0m \u001b[38;5;28;01mimport\u001b[39;00m \u001b[38;5;21;01mseaborn\u001b[39;00m \u001b[38;5;28;01mas\u001b[39;00m \u001b[38;5;21;01msns\u001b[39;00m\n",
      "\u001b[1;31mModuleNotFoundError\u001b[0m: No module named 'snsynth'"
     ]
    }
   ],
   "source": [
    "import pandas as pd\n",
    "from snsynth import Synthesizer\n",
    "import matplotlib.pyplot as plt\n",
    "import seaborn as sns\n",
    "import pyspark\n",
    "from pyspark.sql import SparkSession\n",
    "from pyspark.sql.functions import *\n",
    "import pandas as pd\n",
    "import plotly.graph_objects as go\n",
    "from snsynth.mst import MSTSynthesizer"
   ]
  },
  {
   "cell_type": "code",
   "execution_count": 25,
   "metadata": {},
   "outputs": [
    {
     "name": "stdout",
     "output_type": "stream",
     "text": [
      "   age          workclass  fnlwgt   education  education_num  \\\n",
      "0   39          State-gov   77516   Bachelors             13   \n",
      "1   50   Self-emp-not-inc   83311   Bachelors             13   \n",
      "2   38            Private  215646     HS-grad              9   \n",
      "3   53            Private  234721        11th              7   \n",
      "4   28            Private  338409   Bachelors             13   \n",
      "\n",
      "        marital_status          occupation    relationship    race      sex  \\\n",
      "0        Never-married        Adm-clerical   Not-in-family   White     Male   \n",
      "1   Married-civ-spouse     Exec-managerial         Husband   White     Male   \n",
      "2             Divorced   Handlers-cleaners   Not-in-family   White     Male   \n",
      "3   Married-civ-spouse   Handlers-cleaners         Husband   Black     Male   \n",
      "4   Married-civ-spouse      Prof-specialty            Wife   Black   Female   \n",
      "\n",
      "   capital_gain  capital_loss  hours_per_week  native_country  income  \n",
      "0          2174             0              40   United-States   <=50K  \n",
      "1             0             0              13   United-States   <=50K  \n",
      "2             0             0              40   United-States   <=50K  \n",
      "3             0             0              40   United-States   <=50K  \n",
      "4             0             0              40            Cuba   <=50K  \n"
     ]
    }
   ],
   "source": [
    "#aldult.data\n",
    "pums = pd.read_csv(\"adult.data\", header=None, names=[\n",
    "    \"age\", \"workclass\", \"fnlwgt\", \"education\", \"education_num\", \"marital_status\", \"occupation\", \n",
    "    \"relationship\", \"race\", \"sex\", \"capital_gain\", \"capital_loss\", \"hours_per_week\", \"native_country\", \"income\"])\n",
    "\n",
    "print(pums.head())  "
   ]
  },
  {
   "cell_type": "code",
   "execution_count": 85,
   "metadata": {},
   "outputs": [
    {
     "name": "stdout",
     "output_type": "stream",
     "text": [
      "Spent 0.01 epsilon on preprocessor, leaving 0.98 for training\n",
      "Fitting with 8366677401600000 dimensions\n",
      "Getting cliques\n",
      "Estimating marginals\n"
     ]
    }
   ],
   "source": [
    "# Pour epsilon = 1 avec allocation correcte\n",
    "synth_1 = Synthesizer.create(\"mst\", epsilon=0.99, verbose=True)\n",
    "synth_1.fit(pums, preprocessor_eps=0.01)  # Allouer 0.1 au préprocesseur\n",
    "pums_synth_1 = synth_1.sample(100)  # Allouer le reste au synthétiseur"
   ]
  },
  {
   "cell_type": "code",
   "execution_count": 76,
   "metadata": {},
   "outputs": [
    {
     "name": "stdout",
     "output_type": "stream",
     "text": [
      "Spent 1.0 epsilon on preprocessor, leaving 99.0 for training\n",
      "Fitting with 8366677401600000 dimensions\n",
      "Getting cliques\n",
      "Estimating marginals\n"
     ]
    }
   ],
   "source": [
    "epsilon_total = 100\n",
    "\n",
    "# Pour epsilon = 100 avec allocation correcte\n",
    "synth = Synthesizer.create(\"mst\", epsilon=epsilon_total, verbose=True)\n",
    "synth.fit(pums, preprocessor_eps=1.0)  # Allouer 1.0 au préprocesseur\n",
    "pums_synth = synth.sample(99)  # Allouer le reste au synthétiseur\n"
   ]
  },
  {
   "cell_type": "code",
   "execution_count": 86,
   "metadata": {},
   "outputs": [
    {
     "name": "stdout",
     "output_type": "stream",
     "text": [
      "   age     workclass    fnlwgt      education  education_num  \\\n",
      "0   41       Private  203161.6        HS-grad              9   \n",
      "1   64   Federal-gov  137625.6        HS-grad              9   \n",
      "2   47   Federal-gov  163840.0        HS-grad              9   \n",
      "3   48       Private  255590.4      Assoc-voc             11   \n",
      "4   30       Private  190054.4   Some-college             10   \n",
      "\n",
      "        marital_status       occupation     relationship    race     sex  \\\n",
      "0            Separated    Other-service    Not-in-family   White  female   \n",
      "1   Married-civ-spouse     Craft-repair   Other-relative   White  female   \n",
      "2            Separated     Adm-clerical        Own-child   White    male   \n",
      "3   Married-civ-spouse   Prof-specialty          Husband   White    male   \n",
      "4   Married-civ-spouse    Other-service          Husband   White    male   \n",
      "\n",
      "   capital_gain  capital_loss  hours_per_week  native_country  income  \n",
      "0          0.05          0.05              65   United-States   <=50K  \n",
      "1          0.05          0.05              45   United-States   <=50K  \n",
      "2          0.05          0.05              12   United-States   <=50K  \n",
      "3          0.05          0.85              50   United-States    >50K  \n",
      "4          0.05          0.05              40   United-States   <=50K  \n"
     ]
    }
   ],
   "source": [
    "#print(pums_synth.head())\n",
    "\n",
    "print(pums_synth_1.head())\n"
   ]
  },
  {
   "cell_type": "code",
   "execution_count": 87,
   "metadata": {},
   "outputs": [
    {
     "name": "stdout",
     "output_type": "stream",
     "text": [
      "   age          workclass  fnlwgt   education  education_num  \\\n",
      "0   39          State-gov   77516   Bachelors             13   \n",
      "1   50   Self-emp-not-inc   83311   Bachelors             13   \n",
      "2   38            Private  215646     HS-grad              9   \n",
      "3   53            Private  234721        11th              7   \n",
      "4   28            Private  338409   Bachelors             13   \n",
      "\n",
      "        marital_status          occupation    relationship    race     sex  \\\n",
      "0        Never-married        Adm-clerical   Not-in-family   White    male   \n",
      "1   Married-civ-spouse     Exec-managerial         Husband   White    male   \n",
      "2             Divorced   Handlers-cleaners   Not-in-family   White    male   \n",
      "3   Married-civ-spouse   Handlers-cleaners         Husband   Black    male   \n",
      "4   Married-civ-spouse      Prof-specialty            Wife   Black  female   \n",
      "\n",
      "   capital_gain  capital_loss  hours_per_week  native_country  income  \n",
      "0          2174             0              40   United-States   <=50K  \n",
      "1             0             0              13   United-States   <=50K  \n",
      "2             0             0              40   United-States   <=50K  \n",
      "3             0             0              40   United-States   <=50K  \n",
      "4             0             0              40            Cuba   <=50K  \n"
     ]
    }
   ],
   "source": [
    "print(pums.head())\n"
   ]
  },
  {
   "cell_type": "code",
   "execution_count": 30,
   "metadata": {},
   "outputs": [
    {
     "name": "stdout",
     "output_type": "stream",
     "text": [
      "[' Male' ' Female']\n"
     ]
    }
   ],
   "source": [
    "# Afficher les valeurs uniques de la colonne 'sex'\n",
    "print(pums['sex'].unique())\n"
   ]
  },
  {
   "cell_type": "code",
   "execution_count": 88,
   "metadata": {},
   "outputs": [
    {
     "name": "stdout",
     "output_type": "stream",
     "text": [
      "    age     workclass    fnlwgt      education  education_num  \\\n",
      "0    41       Private  203161.6        HS-grad              9   \n",
      "1    64   Federal-gov  137625.6        HS-grad              9   \n",
      "8    51       Private  137625.6   Some-college             10   \n",
      "18   21   Federal-gov  137625.6   Some-college             10   \n",
      "19   40       Private  255590.4      Bachelors             13   \n",
      "\n",
      "         marital_status       occupation     relationship    race     sex  \\\n",
      "0             Separated    Other-service    Not-in-family   White  female   \n",
      "1    Married-civ-spouse     Craft-repair   Other-relative   White  female   \n",
      "8         Never-married    Other-service    Not-in-family   White  female   \n",
      "18            Separated   Prof-specialty        Unmarried   White  female   \n",
      "19             Divorced            Sales    Not-in-family   White  female   \n",
      "\n",
      "    capital_gain  capital_loss  hours_per_week  native_country  income  \n",
      "0           0.05          0.05              65   United-States   <=50K  \n",
      "1           0.05          0.05              45   United-States   <=50K  \n",
      "8           0.05          0.05              16   United-States   <=50K  \n",
      "18          0.05          0.05              60   United-States   <=50K  \n",
      "19          0.05          0.05              40   United-States   <=50K  \n"
     ]
    }
   ],
   "source": [
    "# Suppression des espaces et mise en minuscules \n",
    "pums['sex'] = pums['sex'].str.strip().str.lower()\n",
    "pums_synth['sex'] = pums_synth['sex'].str.strip().str.lower()\n",
    "pums_synth_1['sex'] = pums_synth_1['sex'].str.strip().str.lower()\n",
    "\n",
    "\n",
    "female_data = pums[pums['sex'] == 'female']\n",
    "female_data_synth = pums_synth[pums_synth['sex'] == 'female']\n",
    "female_data_synth_1 = pums_synth_1[pums_synth_1['sex'] == 'female']\n",
    "\n",
    "male_data = pums[pums['sex'] == 'male']\n",
    "male_data_synth = pums_synth[pums_synth['sex'] == 'male']\n",
    "male_data_synth_1 = pums_synth_1[pums_synth_1['sex'] == 'male']\n",
    "\n",
    "#print(female_data.head())\n",
    "print(female_data_synth_1.head())\n"
   ]
  },
  {
   "cell_type": "code",
   "execution_count": 89,
   "metadata": {},
   "outputs": [
    {
     "name": "stdout",
     "output_type": "stream",
     "text": [
      "10029\n",
      "20200\n"
     ]
    }
   ],
   "source": [
    "# La retraite à 60 ans\n",
    "female_data = female_data[female_data['age'] <= 60]\n",
    "female_data_synth = female_data_synth[female_data_synth['age'] <= 60]\n",
    "female_data_synth_1 = female_data_synth_1[female_data_synth_1['age'] <= 60]\n",
    "\n",
    "\n",
    "male_data = male_data[male_data['age'] <= 60]\n",
    "male_data_synth = male_data_synth[male_data_synth['age'] <= 60]\n",
    "male_data_synth_1 = male_data_synth_1[male_data_synth_1['age'] <= 60]\n",
    "\n",
    "\n",
    "\n",
    "# Longueur des données pour les hommes et les femmes\n",
    "print(len(female_data))\n",
    "print(len(male_data))"
   ]
  },
  {
   "cell_type": "code",
   "execution_count": 90,
   "metadata": {},
   "outputs": [
    {
     "name": "stdout",
     "output_type": "stream",
     "text": [
      "age               38.500000\n",
      "hours_per_week    37.302894\n",
      "dtype: float64\n",
      "-------------------\n",
      "age               33.380952\n",
      "hours_per_week    39.841270\n",
      "dtype: float64\n",
      "----------------\n",
      "age               33.476190\n",
      "hours_per_week    41.285714\n",
      "dtype: float64\n"
     ]
    }
   ],
   "source": [
    "\n",
    "\n",
    "# Calculer la moyenne des heures par semaine pour les femmes par tranche d'âge\n",
    "women_avg_hours = female_data.groupby('age')['hours_per_week'].mean().reset_index()\n",
    "women_avg_hours_synth = female_data_synth.groupby('age')['hours_per_week'].mean().reset_index()\n",
    "women_avg_hours_synth_1 = female_data_synth_1.groupby('age')['hours_per_week'].mean().reset_index()\n",
    "\n",
    "# Calculer la moyenne des revenus pour les hommes par tranche d'âge\n",
    "men_avg_income = male_data.groupby('age')['hours_per_week'].mean().reset_index()\n",
    "men_avg_income_synth = male_data_synth.groupby('age')['hours_per_week'].mean().reset_index()\n",
    "men_avg_income_synth_1 = male_data_synth_1.groupby('age')['hours_per_week'].mean().reset_index()\n",
    "\n",
    "#print(female_data.head())\n",
    "#print(female_data_synth.head())\n",
    "\n",
    "print(women_avg_hours.mean())\n",
    "print('-------------------')\n",
    "print(women_avg_hours_synth.mean())\n",
    "print('----------------')\n",
    "print(women_avg_hours_synth_1.mean())\n"
   ]
  },
  {
   "cell_type": "code",
   "execution_count": 92,
   "metadata": {},
   "outputs": [
    {
     "data": {
      "application/vnd.plotly.v1+json": {
       "config": {
        "plotlyServerURL": "https://plot.ly"
       },
       "data": [
        {
         "line": {
          "color": "lightpink"
         },
         "marker": {
          "color": "pink"
         },
         "mode": "lines+markers",
         "name": "Heures par semaine (Femmes)",
         "type": "scatter",
         "x": [
          17,
          18,
          19,
          20,
          21,
          22,
          23,
          24,
          25,
          26,
          27,
          28,
          29,
          30,
          31,
          32,
          33,
          34,
          35,
          36,
          37,
          38,
          39,
          40,
          41,
          42,
          43,
          44,
          45,
          46,
          47,
          48,
          49,
          50,
          51,
          52,
          53,
          54,
          55,
          56,
          57,
          58,
          59,
          60
         ],
         "xaxis": "x",
         "y": [
          19.940860215053764,
          25.07089552238806,
          28.662921348314608,
          29.074380165289256,
          31.343465045592705,
          32.85964912280702,
          34.63509749303621,
          36.82295081967213,
          37.39936102236422,
          38.5,
          40.006802721088434,
          39.41290322580645,
          39.57564575645756,
          38.333333333333336,
          39.63120567375886,
          39.015686274509804,
          39.79607843137255,
          38.0739299610895,
          39.88211382113821,
          38.055749128919864,
          38.51528384279476,
          38.75847457627118,
          39.32421875,
          38.44106463878327,
          39.63090128755365,
          39.21052631578947,
          39.69432314410481,
          39.722772277227726,
          39.567567567567565,
          39.8640350877193,
          39.13084112149533,
          38.853801169590646,
          40,
          39.71153846153846,
          39.60122699386503,
          38.69402985074627,
          39.845588235294116,
          37.923809523809524,
          38.18248175182482,
          39.20754716981132,
          38.582417582417584,
          37.180952380952384,
          39.02127659574468,
          36.56962025316456
         ],
         "yaxis": "y"
        },
        {
         "line": {
          "color": "red"
         },
         "marker": {
          "color": "lightpink"
         },
         "mode": "lines+markers",
         "name": "Heures par semaine (Femmes Synth)",
         "type": "scatter",
         "x": [
          17,
          18,
          19,
          20,
          21,
          23,
          25,
          28,
          30,
          31,
          33,
          35,
          36,
          37,
          39,
          40,
          41,
          48,
          51,
          52,
          57
         ],
         "xaxis": "x",
         "y": [
          50,
          40,
          40,
          30,
          20,
          60,
          45,
          40,
          50,
          20,
          41.666666666666664,
          35,
          50,
          40,
          40,
          42.5,
          70,
          38,
          40,
          27.5,
          17
         ],
         "yaxis": "y"
        },
        {
         "line": {
          "color": "orange"
         },
         "marker": {
          "color": "orange"
         },
         "mode": "lines+markers",
         "name": "Heures par semaine (Femmes Synth 100)",
         "type": "scatter",
         "x": [
          18,
          19,
          21,
          23,
          24,
          25,
          26,
          27,
          29,
          30,
          31,
          34,
          36,
          37,
          38,
          40,
          41,
          45,
          51,
          52,
          56
         ],
         "xaxis": "x",
         "y": [
          40,
          50,
          60,
          39.5,
          35,
          65,
          22,
          45,
          50,
          44,
          40,
          24,
          25,
          55,
          40,
          40,
          56.5,
          45,
          16,
          40,
          35
         ],
         "yaxis": "y"
        },
        {
         "line": {
          "color": "blue"
         },
         "marker": {
          "color": "blue"
         },
         "mode": "lines+markers",
         "name": "Heures par semaines (Hommes)",
         "type": "scatter",
         "x": [
          17,
          18,
          19,
          20,
          21,
          22,
          23,
          24,
          25,
          26,
          27,
          28,
          29,
          30,
          31,
          32,
          33,
          34,
          35,
          36,
          37,
          38,
          39,
          40,
          41,
          42,
          43,
          44,
          45,
          46,
          47,
          48,
          49,
          50,
          51,
          52,
          53,
          54,
          55,
          56,
          57,
          58,
          59,
          60
         ],
         "xaxis": "x2",
         "y": [
          22.636363636363637,
          26.71276595744681,
          32.693820224719104,
          35.264102564102565,
          36.29923273657289,
          37.040189125295505,
          38.16216216216216,
          40.49087221095335,
          41.553030303030305,
          42.567676767676765,
          43.144177449168204,
          43.48294434470377,
          43.760147601476014,
          43.947278911564624,
          44.38778877887789,
          44.596858638743456,
          44.269354838709674,
          44.925278219395864,
          45.48095238095238,
          45.700490998363335,
          45.59618441971383,
          46.16751269035533,
          45.691071428571426,
          44.4180790960452,
          44.51304347826087,
          44.86594202898551,
          44.75600739371534,
          45.83524904214559,
          44.91015625,
          44.282907662082515,
          44.945344129554655,
          45.215053763440864,
          45.33497536945813,
          45.437219730941706,
          44.673611111111114,
          44.66279069767442,
          44.73780487804878,
          44.15806451612903,
          44.269503546099294,
          43.223076923076924,
          43.78277153558052,
          42.333333333333336,
          43.030651340996165,
          41.88841201716738
         ],
         "yaxis": "y2"
        },
        {
         "line": {
          "color": "lightblue"
         },
         "marker": {
          "color": "lightblue"
         },
         "mode": "lines+markers",
         "name": "Heures par semaines (Hommes Synth)",
         "type": "scatter",
         "x": [
          18,
          19,
          21,
          22,
          23,
          24,
          25,
          26,
          27,
          28,
          29,
          30,
          31,
          32,
          33,
          34,
          35,
          36,
          37,
          38,
          39,
          40,
          41,
          42,
          43,
          44,
          45,
          46,
          47,
          48,
          49,
          50,
          52,
          54,
          55,
          56,
          57,
          59
         ],
         "xaxis": "x2",
         "y": [
          20,
          25,
          40,
          20,
          35,
          50,
          37,
          40,
          31.666666666666668,
          60,
          40,
          45,
          40,
          40,
          50,
          48.666666666666664,
          44.666666666666664,
          45,
          50,
          69.5,
          27.5,
          40,
          44,
          40,
          33.333333333333336,
          45,
          40,
          47.5,
          50,
          45,
          41,
          40,
          50,
          35,
          29,
          40,
          40,
          36
         ],
         "yaxis": "y2"
        },
        {
         "line": {
          "color": "green"
         },
         "marker": {
          "color": "green"
         },
         "mode": "lines+markers",
         "name": "Heures par semaines (Hommes Synth 100)",
         "type": "scatter",
         "x": [
          18,
          19,
          20,
          21,
          22,
          23,
          25,
          27,
          28,
          29,
          30,
          31,
          32,
          33,
          34,
          35,
          36,
          37,
          38,
          39,
          40,
          41,
          43,
          44,
          46,
          47,
          48,
          49,
          50,
          51,
          53,
          55,
          56,
          58,
          59,
          60
         ],
         "xaxis": "x2",
         "y": [
          60,
          31,
          34,
          45,
          41.666666666666664,
          30.333333333333332,
          38,
          40,
          40,
          11,
          40,
          40,
          35.5,
          40,
          41.666666666666664,
          45,
          38,
          40,
          50,
          40,
          45,
          45,
          25,
          40,
          40,
          24,
          43.333333333333336,
          55,
          40,
          15.666666666666666,
          40,
          20,
          8,
          40,
          40,
          36
         ],
         "yaxis": "y2"
        }
       ],
       "layout": {
        "annotations": [
         {
          "font": {
           "size": 16
          },
          "showarrow": false,
          "text": "Heures par semaine des Femmes",
          "x": 0.5,
          "xanchor": "center",
          "xref": "paper",
          "y": 1,
          "yanchor": "bottom",
          "yref": "paper"
         },
         {
          "font": {
           "size": 16
          },
          "showarrow": false,
          "text": "Revenu des Hommes",
          "x": 0.5,
          "xanchor": "center",
          "xref": "paper",
          "y": 0.375,
          "yanchor": "bottom",
          "yref": "paper"
         }
        ],
        "legend": {
         "title": {
          "text": "Variable"
         }
        },
        "template": {
         "data": {
          "bar": [
           {
            "error_x": {
             "color": "#2a3f5f"
            },
            "error_y": {
             "color": "#2a3f5f"
            },
            "marker": {
             "line": {
              "color": "white",
              "width": 0.5
             },
             "pattern": {
              "fillmode": "overlay",
              "size": 10,
              "solidity": 0.2
             }
            },
            "type": "bar"
           }
          ],
          "barpolar": [
           {
            "marker": {
             "line": {
              "color": "white",
              "width": 0.5
             },
             "pattern": {
              "fillmode": "overlay",
              "size": 10,
              "solidity": 0.2
             }
            },
            "type": "barpolar"
           }
          ],
          "carpet": [
           {
            "aaxis": {
             "endlinecolor": "#2a3f5f",
             "gridcolor": "#C8D4E3",
             "linecolor": "#C8D4E3",
             "minorgridcolor": "#C8D4E3",
             "startlinecolor": "#2a3f5f"
            },
            "baxis": {
             "endlinecolor": "#2a3f5f",
             "gridcolor": "#C8D4E3",
             "linecolor": "#C8D4E3",
             "minorgridcolor": "#C8D4E3",
             "startlinecolor": "#2a3f5f"
            },
            "type": "carpet"
           }
          ],
          "choropleth": [
           {
            "colorbar": {
             "outlinewidth": 0,
             "ticks": ""
            },
            "type": "choropleth"
           }
          ],
          "contour": [
           {
            "colorbar": {
             "outlinewidth": 0,
             "ticks": ""
            },
            "colorscale": [
             [
              0,
              "#0d0887"
             ],
             [
              0.1111111111111111,
              "#46039f"
             ],
             [
              0.2222222222222222,
              "#7201a8"
             ],
             [
              0.3333333333333333,
              "#9c179e"
             ],
             [
              0.4444444444444444,
              "#bd3786"
             ],
             [
              0.5555555555555556,
              "#d8576b"
             ],
             [
              0.6666666666666666,
              "#ed7953"
             ],
             [
              0.7777777777777778,
              "#fb9f3a"
             ],
             [
              0.8888888888888888,
              "#fdca26"
             ],
             [
              1,
              "#f0f921"
             ]
            ],
            "type": "contour"
           }
          ],
          "contourcarpet": [
           {
            "colorbar": {
             "outlinewidth": 0,
             "ticks": ""
            },
            "type": "contourcarpet"
           }
          ],
          "heatmap": [
           {
            "colorbar": {
             "outlinewidth": 0,
             "ticks": ""
            },
            "colorscale": [
             [
              0,
              "#0d0887"
             ],
             [
              0.1111111111111111,
              "#46039f"
             ],
             [
              0.2222222222222222,
              "#7201a8"
             ],
             [
              0.3333333333333333,
              "#9c179e"
             ],
             [
              0.4444444444444444,
              "#bd3786"
             ],
             [
              0.5555555555555556,
              "#d8576b"
             ],
             [
              0.6666666666666666,
              "#ed7953"
             ],
             [
              0.7777777777777778,
              "#fb9f3a"
             ],
             [
              0.8888888888888888,
              "#fdca26"
             ],
             [
              1,
              "#f0f921"
             ]
            ],
            "type": "heatmap"
           }
          ],
          "heatmapgl": [
           {
            "colorbar": {
             "outlinewidth": 0,
             "ticks": ""
            },
            "colorscale": [
             [
              0,
              "#0d0887"
             ],
             [
              0.1111111111111111,
              "#46039f"
             ],
             [
              0.2222222222222222,
              "#7201a8"
             ],
             [
              0.3333333333333333,
              "#9c179e"
             ],
             [
              0.4444444444444444,
              "#bd3786"
             ],
             [
              0.5555555555555556,
              "#d8576b"
             ],
             [
              0.6666666666666666,
              "#ed7953"
             ],
             [
              0.7777777777777778,
              "#fb9f3a"
             ],
             [
              0.8888888888888888,
              "#fdca26"
             ],
             [
              1,
              "#f0f921"
             ]
            ],
            "type": "heatmapgl"
           }
          ],
          "histogram": [
           {
            "marker": {
             "pattern": {
              "fillmode": "overlay",
              "size": 10,
              "solidity": 0.2
             }
            },
            "type": "histogram"
           }
          ],
          "histogram2d": [
           {
            "colorbar": {
             "outlinewidth": 0,
             "ticks": ""
            },
            "colorscale": [
             [
              0,
              "#0d0887"
             ],
             [
              0.1111111111111111,
              "#46039f"
             ],
             [
              0.2222222222222222,
              "#7201a8"
             ],
             [
              0.3333333333333333,
              "#9c179e"
             ],
             [
              0.4444444444444444,
              "#bd3786"
             ],
             [
              0.5555555555555556,
              "#d8576b"
             ],
             [
              0.6666666666666666,
              "#ed7953"
             ],
             [
              0.7777777777777778,
              "#fb9f3a"
             ],
             [
              0.8888888888888888,
              "#fdca26"
             ],
             [
              1,
              "#f0f921"
             ]
            ],
            "type": "histogram2d"
           }
          ],
          "histogram2dcontour": [
           {
            "colorbar": {
             "outlinewidth": 0,
             "ticks": ""
            },
            "colorscale": [
             [
              0,
              "#0d0887"
             ],
             [
              0.1111111111111111,
              "#46039f"
             ],
             [
              0.2222222222222222,
              "#7201a8"
             ],
             [
              0.3333333333333333,
              "#9c179e"
             ],
             [
              0.4444444444444444,
              "#bd3786"
             ],
             [
              0.5555555555555556,
              "#d8576b"
             ],
             [
              0.6666666666666666,
              "#ed7953"
             ],
             [
              0.7777777777777778,
              "#fb9f3a"
             ],
             [
              0.8888888888888888,
              "#fdca26"
             ],
             [
              1,
              "#f0f921"
             ]
            ],
            "type": "histogram2dcontour"
           }
          ],
          "mesh3d": [
           {
            "colorbar": {
             "outlinewidth": 0,
             "ticks": ""
            },
            "type": "mesh3d"
           }
          ],
          "parcoords": [
           {
            "line": {
             "colorbar": {
              "outlinewidth": 0,
              "ticks": ""
             }
            },
            "type": "parcoords"
           }
          ],
          "pie": [
           {
            "automargin": true,
            "type": "pie"
           }
          ],
          "scatter": [
           {
            "fillpattern": {
             "fillmode": "overlay",
             "size": 10,
             "solidity": 0.2
            },
            "type": "scatter"
           }
          ],
          "scatter3d": [
           {
            "line": {
             "colorbar": {
              "outlinewidth": 0,
              "ticks": ""
             }
            },
            "marker": {
             "colorbar": {
              "outlinewidth": 0,
              "ticks": ""
             }
            },
            "type": "scatter3d"
           }
          ],
          "scattercarpet": [
           {
            "marker": {
             "colorbar": {
              "outlinewidth": 0,
              "ticks": ""
             }
            },
            "type": "scattercarpet"
           }
          ],
          "scattergeo": [
           {
            "marker": {
             "colorbar": {
              "outlinewidth": 0,
              "ticks": ""
             }
            },
            "type": "scattergeo"
           }
          ],
          "scattergl": [
           {
            "marker": {
             "colorbar": {
              "outlinewidth": 0,
              "ticks": ""
             }
            },
            "type": "scattergl"
           }
          ],
          "scattermapbox": [
           {
            "marker": {
             "colorbar": {
              "outlinewidth": 0,
              "ticks": ""
             }
            },
            "type": "scattermapbox"
           }
          ],
          "scatterpolar": [
           {
            "marker": {
             "colorbar": {
              "outlinewidth": 0,
              "ticks": ""
             }
            },
            "type": "scatterpolar"
           }
          ],
          "scatterpolargl": [
           {
            "marker": {
             "colorbar": {
              "outlinewidth": 0,
              "ticks": ""
             }
            },
            "type": "scatterpolargl"
           }
          ],
          "scatterternary": [
           {
            "marker": {
             "colorbar": {
              "outlinewidth": 0,
              "ticks": ""
             }
            },
            "type": "scatterternary"
           }
          ],
          "surface": [
           {
            "colorbar": {
             "outlinewidth": 0,
             "ticks": ""
            },
            "colorscale": [
             [
              0,
              "#0d0887"
             ],
             [
              0.1111111111111111,
              "#46039f"
             ],
             [
              0.2222222222222222,
              "#7201a8"
             ],
             [
              0.3333333333333333,
              "#9c179e"
             ],
             [
              0.4444444444444444,
              "#bd3786"
             ],
             [
              0.5555555555555556,
              "#d8576b"
             ],
             [
              0.6666666666666666,
              "#ed7953"
             ],
             [
              0.7777777777777778,
              "#fb9f3a"
             ],
             [
              0.8888888888888888,
              "#fdca26"
             ],
             [
              1,
              "#f0f921"
             ]
            ],
            "type": "surface"
           }
          ],
          "table": [
           {
            "cells": {
             "fill": {
              "color": "#EBF0F8"
             },
             "line": {
              "color": "white"
             }
            },
            "header": {
             "fill": {
              "color": "#C8D4E3"
             },
             "line": {
              "color": "white"
             }
            },
            "type": "table"
           }
          ]
         },
         "layout": {
          "annotationdefaults": {
           "arrowcolor": "#2a3f5f",
           "arrowhead": 0,
           "arrowwidth": 1
          },
          "autotypenumbers": "strict",
          "coloraxis": {
           "colorbar": {
            "outlinewidth": 0,
            "ticks": ""
           }
          },
          "colorscale": {
           "diverging": [
            [
             0,
             "#8e0152"
            ],
            [
             0.1,
             "#c51b7d"
            ],
            [
             0.2,
             "#de77ae"
            ],
            [
             0.3,
             "#f1b6da"
            ],
            [
             0.4,
             "#fde0ef"
            ],
            [
             0.5,
             "#f7f7f7"
            ],
            [
             0.6,
             "#e6f5d0"
            ],
            [
             0.7,
             "#b8e186"
            ],
            [
             0.8,
             "#7fbc41"
            ],
            [
             0.9,
             "#4d9221"
            ],
            [
             1,
             "#276419"
            ]
           ],
           "sequential": [
            [
             0,
             "#0d0887"
            ],
            [
             0.1111111111111111,
             "#46039f"
            ],
            [
             0.2222222222222222,
             "#7201a8"
            ],
            [
             0.3333333333333333,
             "#9c179e"
            ],
            [
             0.4444444444444444,
             "#bd3786"
            ],
            [
             0.5555555555555556,
             "#d8576b"
            ],
            [
             0.6666666666666666,
             "#ed7953"
            ],
            [
             0.7777777777777778,
             "#fb9f3a"
            ],
            [
             0.8888888888888888,
             "#fdca26"
            ],
            [
             1,
             "#f0f921"
            ]
           ],
           "sequentialminus": [
            [
             0,
             "#0d0887"
            ],
            [
             0.1111111111111111,
             "#46039f"
            ],
            [
             0.2222222222222222,
             "#7201a8"
            ],
            [
             0.3333333333333333,
             "#9c179e"
            ],
            [
             0.4444444444444444,
             "#bd3786"
            ],
            [
             0.5555555555555556,
             "#d8576b"
            ],
            [
             0.6666666666666666,
             "#ed7953"
            ],
            [
             0.7777777777777778,
             "#fb9f3a"
            ],
            [
             0.8888888888888888,
             "#fdca26"
            ],
            [
             1,
             "#f0f921"
            ]
           ]
          },
          "colorway": [
           "#636efa",
           "#EF553B",
           "#00cc96",
           "#ab63fa",
           "#FFA15A",
           "#19d3f3",
           "#FF6692",
           "#B6E880",
           "#FF97FF",
           "#FECB52"
          ],
          "font": {
           "color": "#2a3f5f"
          },
          "geo": {
           "bgcolor": "white",
           "lakecolor": "white",
           "landcolor": "white",
           "showlakes": true,
           "showland": true,
           "subunitcolor": "#C8D4E3"
          },
          "hoverlabel": {
           "align": "left"
          },
          "hovermode": "closest",
          "mapbox": {
           "style": "light"
          },
          "paper_bgcolor": "white",
          "plot_bgcolor": "white",
          "polar": {
           "angularaxis": {
            "gridcolor": "#EBF0F8",
            "linecolor": "#EBF0F8",
            "ticks": ""
           },
           "bgcolor": "white",
           "radialaxis": {
            "gridcolor": "#EBF0F8",
            "linecolor": "#EBF0F8",
            "ticks": ""
           }
          },
          "scene": {
           "xaxis": {
            "backgroundcolor": "white",
            "gridcolor": "#DFE8F3",
            "gridwidth": 2,
            "linecolor": "#EBF0F8",
            "showbackground": true,
            "ticks": "",
            "zerolinecolor": "#EBF0F8"
           },
           "yaxis": {
            "backgroundcolor": "white",
            "gridcolor": "#DFE8F3",
            "gridwidth": 2,
            "linecolor": "#EBF0F8",
            "showbackground": true,
            "ticks": "",
            "zerolinecolor": "#EBF0F8"
           },
           "zaxis": {
            "backgroundcolor": "white",
            "gridcolor": "#DFE8F3",
            "gridwidth": 2,
            "linecolor": "#EBF0F8",
            "showbackground": true,
            "ticks": "",
            "zerolinecolor": "#EBF0F8"
           }
          },
          "shapedefaults": {
           "line": {
            "color": "#2a3f5f"
           }
          },
          "ternary": {
           "aaxis": {
            "gridcolor": "#DFE8F3",
            "linecolor": "#A2B1C6",
            "ticks": ""
           },
           "baxis": {
            "gridcolor": "#DFE8F3",
            "linecolor": "#A2B1C6",
            "ticks": ""
           },
           "bgcolor": "white",
           "caxis": {
            "gridcolor": "#DFE8F3",
            "linecolor": "#A2B1C6",
            "ticks": ""
           }
          },
          "title": {
           "x": 0.05
          },
          "xaxis": {
           "automargin": true,
           "gridcolor": "#EBF0F8",
           "linecolor": "#EBF0F8",
           "ticks": "",
           "title": {
            "standoff": 15
           },
           "zerolinecolor": "#EBF0F8",
           "zerolinewidth": 2
          },
          "yaxis": {
           "automargin": true,
           "gridcolor": "#EBF0F8",
           "linecolor": "#EBF0F8",
           "ticks": "",
           "title": {
            "standoff": 15
           },
           "zerolinecolor": "#EBF0F8",
           "zerolinewidth": 2
          }
         }
        },
        "title": {
         "text": "Comparaison des heures par semaine des Femmes et des Hommes selon l'Âge"
        },
        "xaxis": {
         "anchor": "y",
         "domain": [
          0,
          1
         ],
         "title": {
          "text": "Âge"
         }
        },
        "xaxis2": {
         "anchor": "y2",
         "domain": [
          0,
          1
         ]
        },
        "yaxis": {
         "anchor": "x",
         "domain": [
          0.625,
          1
         ],
         "title": {
          "text": "Moyenne des heures par semaine"
         }
        },
        "yaxis2": {
         "anchor": "x2",
         "domain": [
          0,
          0.375
         ]
        }
       }
      }
     },
     "metadata": {},
     "output_type": "display_data"
    }
   ],
   "source": [
    "import plotly.graph_objects as go\n",
    "from plotly.subplots import make_subplots\n",
    "\n",
    "# Créer un subplot avec 2 lignes\n",
    "fig = make_subplots(rows=2, cols=1, \n",
    "                    subplot_titles=(\"Heures par semaine des Femmes\", \"Revenu des Hommes\"))\n",
    "\n",
    "# Ajout des heures par semaine pour les femmes (rose)\n",
    "fig.add_trace(go.Scatter(\n",
    "    x=women_avg_hours['age'], \n",
    "    y=women_avg_hours['hours_per_week'], \n",
    "    mode='lines+markers',\n",
    "    name='Heures par semaine (Femmes)',\n",
    "    line=dict(color='lightpink'),  # Rose clair\n",
    "    marker=dict(color='pink'),       # Rose\n",
    "), row=1, col=1)\n",
    "\n",
    "# Ajout des heures par semaine pour les femmes dans synth (rose)\n",
    "fig.add_trace(go.Scatter(\n",
    "    x=women_avg_hours_synth['age'], \n",
    "    y=women_avg_hours_synth['hours_per_week'], \n",
    "    mode='lines+markers',\n",
    "    name='Heures par semaine (Femmes Synth)',\n",
    "    line=dict(color='red'),          # Rose\n",
    "    marker=dict(color='lightpink')   # Rose clair\n",
    "), row=1, col=1)\n",
    "\n",
    "# Ajout des heures par semaine pour les femmes dans synth 1000 (rose)\n",
    "\n",
    "fig.add_trace(go.Scatter(\n",
    "    x = women_avg_hours_synth_1['age'],\n",
    "    y = women_avg_hours_synth_1['hours_per_week'],\n",
    "    mode = 'lines+markers',\n",
    "    name = 'Heures par semaine (Femmes Synth 100)',\n",
    "    line = dict(color = 'orange'),\n",
    "    marker = dict(color = 'orange')\n",
    "), row = 1, col = 1)\n",
    "\n",
    "# Ajout des revenus pour les hommes (bleu)\n",
    "fig.add_trace(go.Scatter(\n",
    "    x=men_avg_income['age'], \n",
    "    y=men_avg_income['hours_per_week'], \n",
    "    mode='lines+markers',\n",
    "    name='Heures par semaines (Hommes)',\n",
    "    line=dict(color='blue'),         # Bleu\n",
    "    marker=dict(color='blue')   # Bleu clair\n",
    "), row=2, col=1)\n",
    "\n",
    "# Ajout des revenus pour les hommes dans synth (bleu clair)\n",
    "fig.add_trace(go.Scatter(\n",
    "    x=men_avg_income_synth['age'], \n",
    "    y=men_avg_income_synth['hours_per_week'], \n",
    "    mode='lines+markers',\n",
    "    name='Heures par semaines (Hommes Synth)',\n",
    "    line=dict(color='lightblue'),    # Bleu clair\n",
    "    marker=dict(color='lightblue')         # Bleu\n",
    "), row=2, col=1)\n",
    "\n",
    "# Ajout des revenus pour les hommes dans synth 1000 (bleu clair)\n",
    "fig.add_trace(go.Scatter(\n",
    "    x=men_avg_income_synth_1['age'],\n",
    "    y=men_avg_income_synth_1['hours_per_week'],\n",
    "    mode='lines+markers',\n",
    "    name='Heures par semaines (Hommes Synth 100)',\n",
    "    line=dict(color='green'),\n",
    "    marker=dict(color='green')\n",
    "), row=2, col=1)\n",
    "\n",
    "\n",
    "# Mise en forme du graphique\n",
    "fig.update_layout(\n",
    "    title=\"Comparaison des heures par semaine des Femmes et des Hommes selon l'Âge\",\n",
    "    xaxis_title=\"Âge\",\n",
    "    yaxis_title=\"Moyenne des heures par semaine\",\n",
    "    legend_title=\"Variable\",\n",
    "    template=\"plotly_white\"\n",
    ")\n",
    "\n",
    "# Affichage du graphique\n",
    "fig.show()\n"
   ]
  },
  {
   "cell_type": "code",
   "execution_count": 96,
   "metadata": {},
   "outputs": [
    {
     "data": {
      "application/vnd.plotly.v1+json": {
       "config": {
        "plotlyServerURL": "https://plot.ly"
       },
       "data": [
        {
         "marker": {
          "color": "lightpink"
         },
         "name": "Heures par semaine (Femmes)",
         "opacity": 0.7,
         "type": "histogram",
         "x": [
          19.940860215053764,
          25.07089552238806,
          28.662921348314608,
          29.074380165289256,
          31.343465045592705,
          32.85964912280702,
          34.63509749303621,
          36.82295081967213,
          37.39936102236422,
          38.5,
          40.006802721088434,
          39.41290322580645,
          39.57564575645756,
          38.333333333333336,
          39.63120567375886,
          39.015686274509804,
          39.79607843137255,
          38.0739299610895,
          39.88211382113821,
          38.055749128919864,
          38.51528384279476,
          38.75847457627118,
          39.32421875,
          38.44106463878327,
          39.63090128755365,
          39.21052631578947,
          39.69432314410481,
          39.722772277227726,
          39.567567567567565,
          39.8640350877193,
          39.13084112149533,
          38.853801169590646,
          40,
          39.71153846153846,
          39.60122699386503,
          38.69402985074627,
          39.845588235294116,
          37.923809523809524,
          38.18248175182482,
          39.20754716981132,
          38.582417582417584,
          37.180952380952384,
          39.02127659574468,
          36.56962025316456
         ],
         "xaxis": "x",
         "yaxis": "y"
        },
        {
         "marker": {
          "color": "red"
         },
         "name": "Heures par semaine (Femmes Synth)",
         "opacity": 0.5,
         "type": "histogram",
         "x": [
          50,
          40,
          40,
          30,
          20,
          60,
          45,
          40,
          50,
          20,
          41.666666666666664,
          35,
          50,
          40,
          40,
          42.5,
          70,
          38,
          40,
          27.5,
          17
         ],
         "xaxis": "x",
         "yaxis": "y"
        },
        {
         "marker": {
          "color": "orange"
         },
         "name": "Heures par semaine (Femmes Synth 100)",
         "opacity": 0.5,
         "type": "histogram",
         "x": [
          40,
          50,
          60,
          39.5,
          35,
          65,
          22,
          45,
          50,
          44,
          40,
          24,
          25,
          55,
          40,
          40,
          56.5,
          45,
          16,
          40,
          35
         ],
         "xaxis": "x",
         "yaxis": "y"
        },
        {
         "marker": {
          "color": "blue"
         },
         "name": "Heures par semaine (Hommes)",
         "opacity": 0.7,
         "type": "histogram",
         "x": [
          22.636363636363637,
          26.71276595744681,
          32.693820224719104,
          35.264102564102565,
          36.29923273657289,
          37.040189125295505,
          38.16216216216216,
          40.49087221095335,
          41.553030303030305,
          42.567676767676765,
          43.144177449168204,
          43.48294434470377,
          43.760147601476014,
          43.947278911564624,
          44.38778877887789,
          44.596858638743456,
          44.269354838709674,
          44.925278219395864,
          45.48095238095238,
          45.700490998363335,
          45.59618441971383,
          46.16751269035533,
          45.691071428571426,
          44.4180790960452,
          44.51304347826087,
          44.86594202898551,
          44.75600739371534,
          45.83524904214559,
          44.91015625,
          44.282907662082515,
          44.945344129554655,
          45.215053763440864,
          45.33497536945813,
          45.437219730941706,
          44.673611111111114,
          44.66279069767442,
          44.73780487804878,
          44.15806451612903,
          44.269503546099294,
          43.223076923076924,
          43.78277153558052,
          42.333333333333336,
          43.030651340996165,
          41.88841201716738
         ],
         "xaxis": "x2",
         "yaxis": "y2"
        },
        {
         "marker": {
          "color": "lightblue"
         },
         "name": "Heures par semaine (Hommes Synth)",
         "opacity": 0.5,
         "type": "histogram",
         "x": [
          20,
          25,
          40,
          20,
          35,
          50,
          37,
          40,
          31.666666666666668,
          60,
          40,
          45,
          40,
          40,
          50,
          48.666666666666664,
          44.666666666666664,
          45,
          50,
          69.5,
          27.5,
          40,
          44,
          40,
          33.333333333333336,
          45,
          40,
          47.5,
          50,
          45,
          41,
          40,
          50,
          35,
          29,
          40,
          40,
          36
         ],
         "xaxis": "x2",
         "yaxis": "y2"
        },
        {
         "marker": {
          "color": "green"
         },
         "name": "Heures par semaine (Hommes Synth 100)",
         "opacity": 0.5,
         "type": "histogram",
         "x": [
          60,
          31,
          34,
          45,
          41.666666666666664,
          30.333333333333332,
          38,
          40,
          40,
          11,
          40,
          40,
          35.5,
          40,
          41.666666666666664,
          45,
          38,
          40,
          50,
          40,
          45,
          45,
          25,
          40,
          40,
          24,
          43.333333333333336,
          55,
          40,
          15.666666666666666,
          40,
          20,
          8,
          40,
          40,
          36
         ],
         "xaxis": "x2",
         "yaxis": "y2"
        }
       ],
       "layout": {
        "annotations": [
         {
          "font": {
           "size": 16
          },
          "showarrow": false,
          "text": "Distribution des Heures par semaine des Femmes",
          "x": 0.5,
          "xanchor": "center",
          "xref": "paper",
          "y": 1,
          "yanchor": "bottom",
          "yref": "paper"
         },
         {
          "font": {
           "size": 16
          },
          "showarrow": false,
          "text": "Distribution des Heures par semaine des Hommes",
          "x": 0.5,
          "xanchor": "center",
          "xref": "paper",
          "y": 0.375,
          "yanchor": "bottom",
          "yref": "paper"
         }
        ],
        "barmode": "overlay",
        "template": {
         "data": {
          "bar": [
           {
            "error_x": {
             "color": "#2a3f5f"
            },
            "error_y": {
             "color": "#2a3f5f"
            },
            "marker": {
             "line": {
              "color": "white",
              "width": 0.5
             },
             "pattern": {
              "fillmode": "overlay",
              "size": 10,
              "solidity": 0.2
             }
            },
            "type": "bar"
           }
          ],
          "barpolar": [
           {
            "marker": {
             "line": {
              "color": "white",
              "width": 0.5
             },
             "pattern": {
              "fillmode": "overlay",
              "size": 10,
              "solidity": 0.2
             }
            },
            "type": "barpolar"
           }
          ],
          "carpet": [
           {
            "aaxis": {
             "endlinecolor": "#2a3f5f",
             "gridcolor": "#C8D4E3",
             "linecolor": "#C8D4E3",
             "minorgridcolor": "#C8D4E3",
             "startlinecolor": "#2a3f5f"
            },
            "baxis": {
             "endlinecolor": "#2a3f5f",
             "gridcolor": "#C8D4E3",
             "linecolor": "#C8D4E3",
             "minorgridcolor": "#C8D4E3",
             "startlinecolor": "#2a3f5f"
            },
            "type": "carpet"
           }
          ],
          "choropleth": [
           {
            "colorbar": {
             "outlinewidth": 0,
             "ticks": ""
            },
            "type": "choropleth"
           }
          ],
          "contour": [
           {
            "colorbar": {
             "outlinewidth": 0,
             "ticks": ""
            },
            "colorscale": [
             [
              0,
              "#0d0887"
             ],
             [
              0.1111111111111111,
              "#46039f"
             ],
             [
              0.2222222222222222,
              "#7201a8"
             ],
             [
              0.3333333333333333,
              "#9c179e"
             ],
             [
              0.4444444444444444,
              "#bd3786"
             ],
             [
              0.5555555555555556,
              "#d8576b"
             ],
             [
              0.6666666666666666,
              "#ed7953"
             ],
             [
              0.7777777777777778,
              "#fb9f3a"
             ],
             [
              0.8888888888888888,
              "#fdca26"
             ],
             [
              1,
              "#f0f921"
             ]
            ],
            "type": "contour"
           }
          ],
          "contourcarpet": [
           {
            "colorbar": {
             "outlinewidth": 0,
             "ticks": ""
            },
            "type": "contourcarpet"
           }
          ],
          "heatmap": [
           {
            "colorbar": {
             "outlinewidth": 0,
             "ticks": ""
            },
            "colorscale": [
             [
              0,
              "#0d0887"
             ],
             [
              0.1111111111111111,
              "#46039f"
             ],
             [
              0.2222222222222222,
              "#7201a8"
             ],
             [
              0.3333333333333333,
              "#9c179e"
             ],
             [
              0.4444444444444444,
              "#bd3786"
             ],
             [
              0.5555555555555556,
              "#d8576b"
             ],
             [
              0.6666666666666666,
              "#ed7953"
             ],
             [
              0.7777777777777778,
              "#fb9f3a"
             ],
             [
              0.8888888888888888,
              "#fdca26"
             ],
             [
              1,
              "#f0f921"
             ]
            ],
            "type": "heatmap"
           }
          ],
          "heatmapgl": [
           {
            "colorbar": {
             "outlinewidth": 0,
             "ticks": ""
            },
            "colorscale": [
             [
              0,
              "#0d0887"
             ],
             [
              0.1111111111111111,
              "#46039f"
             ],
             [
              0.2222222222222222,
              "#7201a8"
             ],
             [
              0.3333333333333333,
              "#9c179e"
             ],
             [
              0.4444444444444444,
              "#bd3786"
             ],
             [
              0.5555555555555556,
              "#d8576b"
             ],
             [
              0.6666666666666666,
              "#ed7953"
             ],
             [
              0.7777777777777778,
              "#fb9f3a"
             ],
             [
              0.8888888888888888,
              "#fdca26"
             ],
             [
              1,
              "#f0f921"
             ]
            ],
            "type": "heatmapgl"
           }
          ],
          "histogram": [
           {
            "marker": {
             "pattern": {
              "fillmode": "overlay",
              "size": 10,
              "solidity": 0.2
             }
            },
            "type": "histogram"
           }
          ],
          "histogram2d": [
           {
            "colorbar": {
             "outlinewidth": 0,
             "ticks": ""
            },
            "colorscale": [
             [
              0,
              "#0d0887"
             ],
             [
              0.1111111111111111,
              "#46039f"
             ],
             [
              0.2222222222222222,
              "#7201a8"
             ],
             [
              0.3333333333333333,
              "#9c179e"
             ],
             [
              0.4444444444444444,
              "#bd3786"
             ],
             [
              0.5555555555555556,
              "#d8576b"
             ],
             [
              0.6666666666666666,
              "#ed7953"
             ],
             [
              0.7777777777777778,
              "#fb9f3a"
             ],
             [
              0.8888888888888888,
              "#fdca26"
             ],
             [
              1,
              "#f0f921"
             ]
            ],
            "type": "histogram2d"
           }
          ],
          "histogram2dcontour": [
           {
            "colorbar": {
             "outlinewidth": 0,
             "ticks": ""
            },
            "colorscale": [
             [
              0,
              "#0d0887"
             ],
             [
              0.1111111111111111,
              "#46039f"
             ],
             [
              0.2222222222222222,
              "#7201a8"
             ],
             [
              0.3333333333333333,
              "#9c179e"
             ],
             [
              0.4444444444444444,
              "#bd3786"
             ],
             [
              0.5555555555555556,
              "#d8576b"
             ],
             [
              0.6666666666666666,
              "#ed7953"
             ],
             [
              0.7777777777777778,
              "#fb9f3a"
             ],
             [
              0.8888888888888888,
              "#fdca26"
             ],
             [
              1,
              "#f0f921"
             ]
            ],
            "type": "histogram2dcontour"
           }
          ],
          "mesh3d": [
           {
            "colorbar": {
             "outlinewidth": 0,
             "ticks": ""
            },
            "type": "mesh3d"
           }
          ],
          "parcoords": [
           {
            "line": {
             "colorbar": {
              "outlinewidth": 0,
              "ticks": ""
             }
            },
            "type": "parcoords"
           }
          ],
          "pie": [
           {
            "automargin": true,
            "type": "pie"
           }
          ],
          "scatter": [
           {
            "fillpattern": {
             "fillmode": "overlay",
             "size": 10,
             "solidity": 0.2
            },
            "type": "scatter"
           }
          ],
          "scatter3d": [
           {
            "line": {
             "colorbar": {
              "outlinewidth": 0,
              "ticks": ""
             }
            },
            "marker": {
             "colorbar": {
              "outlinewidth": 0,
              "ticks": ""
             }
            },
            "type": "scatter3d"
           }
          ],
          "scattercarpet": [
           {
            "marker": {
             "colorbar": {
              "outlinewidth": 0,
              "ticks": ""
             }
            },
            "type": "scattercarpet"
           }
          ],
          "scattergeo": [
           {
            "marker": {
             "colorbar": {
              "outlinewidth": 0,
              "ticks": ""
             }
            },
            "type": "scattergeo"
           }
          ],
          "scattergl": [
           {
            "marker": {
             "colorbar": {
              "outlinewidth": 0,
              "ticks": ""
             }
            },
            "type": "scattergl"
           }
          ],
          "scattermapbox": [
           {
            "marker": {
             "colorbar": {
              "outlinewidth": 0,
              "ticks": ""
             }
            },
            "type": "scattermapbox"
           }
          ],
          "scatterpolar": [
           {
            "marker": {
             "colorbar": {
              "outlinewidth": 0,
              "ticks": ""
             }
            },
            "type": "scatterpolar"
           }
          ],
          "scatterpolargl": [
           {
            "marker": {
             "colorbar": {
              "outlinewidth": 0,
              "ticks": ""
             }
            },
            "type": "scatterpolargl"
           }
          ],
          "scatterternary": [
           {
            "marker": {
             "colorbar": {
              "outlinewidth": 0,
              "ticks": ""
             }
            },
            "type": "scatterternary"
           }
          ],
          "surface": [
           {
            "colorbar": {
             "outlinewidth": 0,
             "ticks": ""
            },
            "colorscale": [
             [
              0,
              "#0d0887"
             ],
             [
              0.1111111111111111,
              "#46039f"
             ],
             [
              0.2222222222222222,
              "#7201a8"
             ],
             [
              0.3333333333333333,
              "#9c179e"
             ],
             [
              0.4444444444444444,
              "#bd3786"
             ],
             [
              0.5555555555555556,
              "#d8576b"
             ],
             [
              0.6666666666666666,
              "#ed7953"
             ],
             [
              0.7777777777777778,
              "#fb9f3a"
             ],
             [
              0.8888888888888888,
              "#fdca26"
             ],
             [
              1,
              "#f0f921"
             ]
            ],
            "type": "surface"
           }
          ],
          "table": [
           {
            "cells": {
             "fill": {
              "color": "#EBF0F8"
             },
             "line": {
              "color": "white"
             }
            },
            "header": {
             "fill": {
              "color": "#C8D4E3"
             },
             "line": {
              "color": "white"
             }
            },
            "type": "table"
           }
          ]
         },
         "layout": {
          "annotationdefaults": {
           "arrowcolor": "#2a3f5f",
           "arrowhead": 0,
           "arrowwidth": 1
          },
          "autotypenumbers": "strict",
          "coloraxis": {
           "colorbar": {
            "outlinewidth": 0,
            "ticks": ""
           }
          },
          "colorscale": {
           "diverging": [
            [
             0,
             "#8e0152"
            ],
            [
             0.1,
             "#c51b7d"
            ],
            [
             0.2,
             "#de77ae"
            ],
            [
             0.3,
             "#f1b6da"
            ],
            [
             0.4,
             "#fde0ef"
            ],
            [
             0.5,
             "#f7f7f7"
            ],
            [
             0.6,
             "#e6f5d0"
            ],
            [
             0.7,
             "#b8e186"
            ],
            [
             0.8,
             "#7fbc41"
            ],
            [
             0.9,
             "#4d9221"
            ],
            [
             1,
             "#276419"
            ]
           ],
           "sequential": [
            [
             0,
             "#0d0887"
            ],
            [
             0.1111111111111111,
             "#46039f"
            ],
            [
             0.2222222222222222,
             "#7201a8"
            ],
            [
             0.3333333333333333,
             "#9c179e"
            ],
            [
             0.4444444444444444,
             "#bd3786"
            ],
            [
             0.5555555555555556,
             "#d8576b"
            ],
            [
             0.6666666666666666,
             "#ed7953"
            ],
            [
             0.7777777777777778,
             "#fb9f3a"
            ],
            [
             0.8888888888888888,
             "#fdca26"
            ],
            [
             1,
             "#f0f921"
            ]
           ],
           "sequentialminus": [
            [
             0,
             "#0d0887"
            ],
            [
             0.1111111111111111,
             "#46039f"
            ],
            [
             0.2222222222222222,
             "#7201a8"
            ],
            [
             0.3333333333333333,
             "#9c179e"
            ],
            [
             0.4444444444444444,
             "#bd3786"
            ],
            [
             0.5555555555555556,
             "#d8576b"
            ],
            [
             0.6666666666666666,
             "#ed7953"
            ],
            [
             0.7777777777777778,
             "#fb9f3a"
            ],
            [
             0.8888888888888888,
             "#fdca26"
            ],
            [
             1,
             "#f0f921"
            ]
           ]
          },
          "colorway": [
           "#636efa",
           "#EF553B",
           "#00cc96",
           "#ab63fa",
           "#FFA15A",
           "#19d3f3",
           "#FF6692",
           "#B6E880",
           "#FF97FF",
           "#FECB52"
          ],
          "font": {
           "color": "#2a3f5f"
          },
          "geo": {
           "bgcolor": "white",
           "lakecolor": "white",
           "landcolor": "white",
           "showlakes": true,
           "showland": true,
           "subunitcolor": "#C8D4E3"
          },
          "hoverlabel": {
           "align": "left"
          },
          "hovermode": "closest",
          "mapbox": {
           "style": "light"
          },
          "paper_bgcolor": "white",
          "plot_bgcolor": "white",
          "polar": {
           "angularaxis": {
            "gridcolor": "#EBF0F8",
            "linecolor": "#EBF0F8",
            "ticks": ""
           },
           "bgcolor": "white",
           "radialaxis": {
            "gridcolor": "#EBF0F8",
            "linecolor": "#EBF0F8",
            "ticks": ""
           }
          },
          "scene": {
           "xaxis": {
            "backgroundcolor": "white",
            "gridcolor": "#DFE8F3",
            "gridwidth": 2,
            "linecolor": "#EBF0F8",
            "showbackground": true,
            "ticks": "",
            "zerolinecolor": "#EBF0F8"
           },
           "yaxis": {
            "backgroundcolor": "white",
            "gridcolor": "#DFE8F3",
            "gridwidth": 2,
            "linecolor": "#EBF0F8",
            "showbackground": true,
            "ticks": "",
            "zerolinecolor": "#EBF0F8"
           },
           "zaxis": {
            "backgroundcolor": "white",
            "gridcolor": "#DFE8F3",
            "gridwidth": 2,
            "linecolor": "#EBF0F8",
            "showbackground": true,
            "ticks": "",
            "zerolinecolor": "#EBF0F8"
           }
          },
          "shapedefaults": {
           "line": {
            "color": "#2a3f5f"
           }
          },
          "ternary": {
           "aaxis": {
            "gridcolor": "#DFE8F3",
            "linecolor": "#A2B1C6",
            "ticks": ""
           },
           "baxis": {
            "gridcolor": "#DFE8F3",
            "linecolor": "#A2B1C6",
            "ticks": ""
           },
           "bgcolor": "white",
           "caxis": {
            "gridcolor": "#DFE8F3",
            "linecolor": "#A2B1C6",
            "ticks": ""
           }
          },
          "title": {
           "x": 0.05
          },
          "xaxis": {
           "automargin": true,
           "gridcolor": "#EBF0F8",
           "linecolor": "#EBF0F8",
           "ticks": "",
           "title": {
            "standoff": 15
           },
           "zerolinecolor": "#EBF0F8",
           "zerolinewidth": 2
          },
          "yaxis": {
           "automargin": true,
           "gridcolor": "#EBF0F8",
           "linecolor": "#EBF0F8",
           "ticks": "",
           "title": {
            "standoff": 15
           },
           "zerolinecolor": "#EBF0F8",
           "zerolinewidth": 2
          }
         }
        },
        "title": {
         "text": "Distribution des Heures par semaine selon le Sexe"
        },
        "xaxis": {
         "anchor": "y",
         "domain": [
          0,
          1
         ],
         "title": {
          "text": "Ages des individus"
         }
        },
        "xaxis2": {
         "anchor": "y2",
         "domain": [
          0,
          1
         ]
        },
        "yaxis": {
         "anchor": "x",
         "domain": [
          0.625,
          1
         ],
         "title": {
          "text": "Nombre d'heures de travail moyen par semaine"
         }
        },
        "yaxis2": {
         "anchor": "x2",
         "domain": [
          0,
          0.375
         ]
        }
       }
      }
     },
     "metadata": {},
     "output_type": "display_data"
    }
   ],
   "source": [
    "import plotly.graph_objects as go\n",
    "from plotly.subplots import make_subplots\n",
    "\n",
    "# Créer un subplot avec 2 lignes et 1 colonne pour les histogrammes\n",
    "fig = make_subplots(rows=2, cols=1, \n",
    "                    subplot_titles=(\"Distribution des Heures par semaine des Femmes\", \n",
    "                                    \"Distribution des Heures par semaine des Hommes\"))\n",
    "\n",
    "# Ajout de l'histogramme des heures par semaine pour les femmes (rose)\n",
    "fig.add_trace(go.Histogram(\n",
    "    x=women_avg_hours['hours_per_week'],  # Données des femmes\n",
    "    name='Heures par semaine (Femmes)',\n",
    "    marker_color='lightpink',  # Couleur rose\n",
    "    opacity=0.7\n",
    "), row=1, col=1)\n",
    "\n",
    "# Ajout de l'histogramme des heures par semaine pour les femmes synthétiques (rouge)\n",
    "fig.add_trace(go.Histogram(\n",
    "    x=women_avg_hours_synth['hours_per_week'],  # Données synthétiques des femmes\n",
    "    name='Heures par semaine (Femmes Synth)',\n",
    "    marker_color='red',  # Couleur rouge\n",
    "    opacity=0.5\n",
    "), row=1, col=1)\n",
    "\n",
    "# Ajout de l'histogramme des heures par semaine pour les femmes synthétiques 1000 (orange)\n",
    "fig.add_trace(go.Histogram(\n",
    "    x=women_avg_hours_synth_1['hours_per_week'],  # Données synthétiques 1000 des femmes\n",
    "    name='Heures par semaine (Femmes Synth 100)',\n",
    "    marker_color='orange',  # Couleur orange\n",
    "    opacity=0.5\n",
    "), row=1, col=1)\n",
    "\n",
    "# Ajout de l'histogramme des heures par semaine pour les hommes (bleu)\n",
    "fig.add_trace(go.Histogram(\n",
    "    x=men_avg_income['hours_per_week'],  # Données des hommes\n",
    "    name='Heures par semaine (Hommes)',\n",
    "    marker_color='blue',  # Couleur bleue\n",
    "    opacity=0.7\n",
    "), row=2, col=1)\n",
    "\n",
    "# Ajout de l'histogramme des heures par semaine pour les hommes synthétiques (bleu clair)\n",
    "fig.add_trace(go.Histogram(\n",
    "    x=men_avg_income_synth['hours_per_week'],  # Données synthétiques des hommes\n",
    "    name='Heures par semaine (Hommes Synth)',\n",
    "    marker_color='lightblue',  # Couleur bleu clair\n",
    "    opacity=0.5\n",
    "), row=2, col=1)\n",
    "\n",
    "# Ajout de l'histogramme des heures par semaine pour les hommes synthétiques 1000 (vert)\n",
    "fig.add_trace(go.Histogram(\n",
    "    x=men_avg_income_synth_1['hours_per_week'],  # Données synthétiques 1000 des hommes\n",
    "    name='Heures par semaine (Hommes Synth 100)',\n",
    "    marker_color='green',  # Couleur verte\n",
    "    opacity=0.5\n",
    "), row=2, col=1)\n",
    "\n",
    "# Mise en forme du graphique\n",
    "fig.update_layout(\n",
    "    title=\"Distribution des Heures par semaine selon le Sexe\",\n",
    "    xaxis_title=\"Ages des individus\",\n",
    "    yaxis_title=\"Nombre d'heures de travail moyen par semaine\",\n",
    "    barmode='overlay',  # Superposer les histogrammes\n",
    "    template=\"plotly_white\"\n",
    ")\n",
    "\n",
    "# Affichage du graphique\n",
    "fig.show()\n"
   ]
  }
 ],
 "metadata": {
  "kernelspec": {
   "display_name": "myenv",
   "language": "python",
   "name": "python3"
  },
  "language_info": {
   "codemirror_mode": {
    "name": "ipython",
    "version": 3
   },
   "file_extension": ".py",
   "mimetype": "text/x-python",
   "name": "python",
   "nbconvert_exporter": "python",
   "pygments_lexer": "ipython3",
   "version": "3.11.3"
  }
 },
 "nbformat": 4,
 "nbformat_minor": 2
}
