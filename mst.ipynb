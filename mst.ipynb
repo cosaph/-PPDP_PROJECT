{
 "cells": [
  {
   "cell_type": "code",
   "execution_count": 24,
   "metadata": {},
   "outputs": [],
   "source": [
    "import pandas as pd\n",
    "from snsynth import Synthesizer\n",
    "import matplotlib.pyplot as plt\n",
    "import seaborn as sns\n",
    "import pyspark\n",
    "from pyspark.sql import SparkSession\n",
    "from pyspark.sql.functions import *\n",
    "import pandas as pd\n",
    "import plotly.graph_objects as go\n",
    "from snsynth.mst import MSTSynthesizer\n",
    "\n",
    "\n"
   ]
  },
  {
   "cell_type": "code",
   "execution_count": 25,
   "metadata": {},
   "outputs": [
    {
     "name": "stdout",
     "output_type": "stream",
     "text": [
      "   age          workclass  fnlwgt   education  education_num  \\\n",
      "0   39          State-gov   77516   Bachelors             13   \n",
      "1   50   Self-emp-not-inc   83311   Bachelors             13   \n",
      "2   38            Private  215646     HS-grad              9   \n",
      "3   53            Private  234721        11th              7   \n",
      "4   28            Private  338409   Bachelors             13   \n",
      "\n",
      "        marital_status          occupation    relationship    race      sex  \\\n",
      "0        Never-married        Adm-clerical   Not-in-family   White     Male   \n",
      "1   Married-civ-spouse     Exec-managerial         Husband   White     Male   \n",
      "2             Divorced   Handlers-cleaners   Not-in-family   White     Male   \n",
      "3   Married-civ-spouse   Handlers-cleaners         Husband   Black     Male   \n",
      "4   Married-civ-spouse      Prof-specialty            Wife   Black   Female   \n",
      "\n",
      "   capital_gain  capital_loss  hours_per_week  native_country  income  \n",
      "0          2174             0              40   United-States   <=50K  \n",
      "1             0             0              13   United-States   <=50K  \n",
      "2             0             0              40   United-States   <=50K  \n",
      "3             0             0              40   United-States   <=50K  \n",
      "4             0             0              40            Cuba   <=50K  \n"
     ]
    }
   ],
   "source": [
    "#aldult.data\n",
    "pums = pd.read_csv(\"adult.data\", header=None, names=[\n",
    "    \"age\", \"workclass\", \"fnlwgt\", \"education\", \"education_num\", \"marital_status\", \"occupation\", \n",
    "    \"relationship\", \"race\", \"sex\", \"capital_gain\", \"capital_loss\", \"hours_per_week\", \"native_country\", \"income\"])\n",
    "\n",
    "print(pums.head())  "
   ]
  },
  {
   "cell_type": "code",
   "execution_count": 58,
   "metadata": {},
   "outputs": [
    {
     "name": "stdout",
     "output_type": "stream",
     "text": [
      "Spent 1.0 epsilon on preprocessor, leaving 2.0 for training\n",
      "Fitting with 8366677401600000 dimensions\n",
      "Getting cliques\n",
      "Estimating marginals\n"
     ]
    }
   ],
   "source": [
    "\n",
    "\n",
    "# epsilon = 1.0\n",
    "synth = Synthesizer.create(\"mst\", epsilon=3.0, verbose=True)\n",
    "synth.fit(pums, preprocessor_eps=1.0)\n",
    "pums_synth = synth.sample(1000)\n",
    "\n",
    "\n",
    "\n"
   ]
  },
  {
   "cell_type": "code",
   "execution_count": 62,
   "metadata": {},
   "outputs": [
    {
     "name": "stdout",
     "output_type": "stream",
     "text": [
      "Spent 100.0 epsilon on preprocessor, leaving 2.0 for training\n",
      "Fitting with 8366677401600000 dimensions\n",
      "Getting cliques\n",
      "Estimating marginals\n"
     ]
    }
   ],
   "source": [
    "# epsilon = 100.0\n",
    "\n",
    "synth_100 = Synthesizer.create(\"mst\", epsilon=102.0, verbose=True)\n",
    "synth_100.fit(pums, preprocessor_eps=100.0)\n",
    "pums_synth_1000 = synth_100.sample(1000)"
   ]
  },
  {
   "cell_type": "code",
   "execution_count": 63,
   "metadata": {},
   "outputs": [
    {
     "name": "stdout",
     "output_type": "stream",
     "text": [
      "   age   workclass    fnlwgt      education  education_num  \\\n",
      "0   40     Private  321536.0      Bachelors             13   \n",
      "1   24     Private  112640.0    Prof-school             15   \n",
      "2   27   State-gov  112640.0        Masters             14   \n",
      "3   30     Private  112640.0   Some-college             10   \n",
      "4   37     Private  321536.0      Bachelors             13   \n",
      "\n",
      "        marital_status        occupation    relationship    race   sex  \\\n",
      "0             Divorced    Prof-specialty   Not-in-family   White  male   \n",
      "1        Never-married   Exec-managerial   Not-in-family   White  male   \n",
      "2              Widowed     Other-service       Unmarried   White  male   \n",
      "3   Married-civ-spouse             Sales         Husband   White  male   \n",
      "4   Married-civ-spouse             Sales         Husband   White  male   \n",
      "\n",
      "   capital_gain  capital_loss  hours_per_week  native_country  income  \n",
      "0        6553.6         409.6              43   United-States   <=50K  \n",
      "1        6553.6         409.6              60   United-States   <=50K  \n",
      "2        6553.6         409.6              11   United-States   <=50K  \n",
      "3        6553.6         409.6              43   United-States    >50K  \n",
      "4        6553.6         409.6              40   United-States   <=50K  \n"
     ]
    }
   ],
   "source": [
    "#print(pums_synth.head())\n",
    "\n",
    "print(pums_synth_1000.head())\n"
   ]
  },
  {
   "cell_type": "code",
   "execution_count": 28,
   "metadata": {},
   "outputs": [
    {
     "name": "stdout",
     "output_type": "stream",
     "text": [
      "   age          workclass  fnlwgt   education  education_num  \\\n",
      "0   39          State-gov   77516   Bachelors             13   \n",
      "1   50   Self-emp-not-inc   83311   Bachelors             13   \n",
      "2   38            Private  215646     HS-grad              9   \n",
      "3   53            Private  234721        11th              7   \n",
      "4   28            Private  338409   Bachelors             13   \n",
      "\n",
      "        marital_status          occupation    relationship    race      sex  \\\n",
      "0        Never-married        Adm-clerical   Not-in-family   White     Male   \n",
      "1   Married-civ-spouse     Exec-managerial         Husband   White     Male   \n",
      "2             Divorced   Handlers-cleaners   Not-in-family   White     Male   \n",
      "3   Married-civ-spouse   Handlers-cleaners         Husband   Black     Male   \n",
      "4   Married-civ-spouse      Prof-specialty            Wife   Black   Female   \n",
      "\n",
      "   capital_gain  capital_loss  hours_per_week  native_country  income  \n",
      "0          2174             0              40   United-States   <=50K  \n",
      "1             0             0              13   United-States   <=50K  \n",
      "2             0             0              40   United-States   <=50K  \n",
      "3             0             0              40   United-States   <=50K  \n",
      "4             0             0              40            Cuba   <=50K  \n"
     ]
    }
   ],
   "source": [
    "print(pums.head())\n"
   ]
  },
  {
   "cell_type": "code",
   "execution_count": 30,
   "metadata": {},
   "outputs": [
    {
     "name": "stdout",
     "output_type": "stream",
     "text": [
      "[' Male' ' Female']\n"
     ]
    }
   ],
   "source": [
    "# Afficher les valeurs uniques de la colonne 'sex'\n",
    "print(pums['sex'].unique())\n"
   ]
  },
  {
   "cell_type": "code",
   "execution_count": 64,
   "metadata": {},
   "outputs": [
    {
     "name": "stdout",
     "output_type": "stream",
     "text": [
      "    age workclass    fnlwgt      education  education_num  \\\n",
      "1    54   Private  171212.8        HS-grad              9   \n",
      "7    21   Private   67993.6   Some-college             10   \n",
      "9    43   Private   67993.6           11th              7   \n",
      "11   33   Private  171212.8        HS-grad              9   \n",
      "12   31   Private  377651.2           10th             14   \n",
      "\n",
      "         marital_status          occupation relationship    race     sex  \\\n",
      "1    Married-civ-spouse               Sales         Wife   Black  female   \n",
      "7         Never-married        Adm-clerical    Own-child   Other  female   \n",
      "9         Never-married   Machine-op-inspct    Own-child   White  female   \n",
      "11        Never-married        Adm-clerical    Unmarried   White  female   \n",
      "12        Never-married        Craft-repair    Own-child   White  female   \n",
      "\n",
      "    capital_gain  capital_loss  hours_per_week  native_country  income  \n",
      "1         6553.6         204.8              40   United-States    >50K  \n",
      "7         6553.6         204.8              30   United-States   <=50K  \n",
      "9         6553.6         204.8              30   United-States   <=50K  \n",
      "11        6553.6         204.8              45   United-States   <=50K  \n",
      "12        6553.6         204.8              35   United-States   <=50K  \n"
     ]
    }
   ],
   "source": [
    "# Suppression des espaces et mise en minuscules \n",
    "pums['sex'] = pums['sex'].str.strip().str.lower()\n",
    "pums_synth['sex'] = pums_synth['sex'].str.strip().str.lower()\n",
    "pums_synth_1000['sex'] = pums_synth_1000['sex'].str.strip().str.lower()\n",
    "\n",
    "\n",
    "female_data = pums[pums['sex'] == 'female']\n",
    "female_data_synth = pums_synth[pums_synth['sex'] == 'female']\n",
    "female_data_synth_1000 = pums_synth_1000[pums_synth_1000['sex'] == 'female']\n",
    "\n",
    "male_data = pums[pums['sex'] == 'male']\n",
    "male_data_synth = pums_synth[pums_synth['sex'] == 'male']\n",
    "male_data_synth_1000 = pums_synth_1000[pums_synth_1000['sex'] == 'male']\n",
    "\n",
    "#print(female_data.head())\n",
    "print(female_data_synth.head())\n"
   ]
  },
  {
   "cell_type": "code",
   "execution_count": 65,
   "metadata": {},
   "outputs": [
    {
     "name": "stdout",
     "output_type": "stream",
     "text": [
      "10029\n",
      "20200\n"
     ]
    }
   ],
   "source": [
    "# La retraite à 60 ans\n",
    "female_data = female_data[female_data['age'] <= 60]\n",
    "female_data_synth = female_data_synth[female_data_synth['age'] <= 60]\n",
    "female_data_synth_1000 = female_data_synth_1000[female_data_synth_1000['age'] <= 60]\n",
    "\n",
    "\n",
    "male_data = male_data[male_data['age'] <= 60]\n",
    "male_data_synth = male_data_synth[male_data_synth['age'] <= 60]\n",
    "male_data_synth_1000 = male_data_synth_1000[male_data_synth_1000['age'] <= 60]\n",
    "\n",
    "\n",
    "\n",
    "# Longueur des données pour les hommes et les femmes\n",
    "print(len(female_data))\n",
    "print(len(male_data))"
   ]
  },
  {
   "cell_type": "code",
   "execution_count": 66,
   "metadata": {},
   "outputs": [
    {
     "name": "stdout",
     "output_type": "stream",
     "text": [
      "age               38.500000\n",
      "hours_per_week    37.302894\n",
      "dtype: float64\n",
      "-------------------\n",
      "age               38.023256\n",
      "hours_per_week    41.094913\n",
      "dtype: float64\n",
      "----------------\n",
      "age               38.500000\n",
      "hours_per_week    38.430476\n",
      "dtype: float64\n"
     ]
    }
   ],
   "source": [
    "\n",
    "\n",
    "# Calculer la moyenne des heures par semaine pour les femmes par tranche d'âge\n",
    "women_avg_hours = female_data.groupby('age')['hours_per_week'].mean().reset_index()\n",
    "women_avg_hours_synth = female_data_synth.groupby('age')['hours_per_week'].mean().reset_index()\n",
    "women_avg_hours_synth_1000 = female_data_synth_1000.groupby('age')['hours_per_week'].mean().reset_index()\n",
    "\n",
    "# Calculer la moyenne des revenus pour les hommes par tranche d'âge\n",
    "men_avg_income = male_data.groupby('age')['hours_per_week'].mean().reset_index()\n",
    "men_avg_income_synth = male_data_synth.groupby('age')['hours_per_week'].mean().reset_index()\n",
    "men_avg_income_synth_1000 = male_data_synth_1000.groupby('age')['hours_per_week'].mean().reset_index()\n",
    "\n",
    "#print(female_data.head())\n",
    "#print(female_data_synth.head())\n",
    "\n",
    "print(women_avg_hours.mean())\n",
    "print('-------------------')\n",
    "print(women_avg_hours_synth.mean())\n",
    "print('----------------')\n",
    "print(women_avg_hours_synth_1000.mean())\n"
   ]
  },
  {
   "cell_type": "code",
   "execution_count": 68,
   "metadata": {},
   "outputs": [
    {
     "data": {
      "application/vnd.plotly.v1+json": {
       "config": {
        "plotlyServerURL": "https://plot.ly"
       },
       "data": [
        {
         "line": {
          "color": "lightpink"
         },
         "marker": {
          "color": "pink"
         },
         "mode": "lines+markers",
         "name": "Heures par semaine (Femmes)",
         "type": "scatter",
         "x": [
          17,
          18,
          19,
          20,
          21,
          22,
          23,
          24,
          25,
          26,
          27,
          28,
          29,
          30,
          31,
          32,
          33,
          34,
          35,
          36,
          37,
          38,
          39,
          40,
          41,
          42,
          43,
          44,
          45,
          46,
          47,
          48,
          49,
          50,
          51,
          52,
          53,
          54,
          55,
          56,
          57,
          58,
          59,
          60
         ],
         "xaxis": "x",
         "y": [
          19.940860215053764,
          25.07089552238806,
          28.662921348314608,
          29.074380165289256,
          31.343465045592705,
          32.85964912280702,
          34.63509749303621,
          36.82295081967213,
          37.39936102236422,
          38.5,
          40.006802721088434,
          39.41290322580645,
          39.57564575645756,
          38.333333333333336,
          39.63120567375886,
          39.015686274509804,
          39.79607843137255,
          38.0739299610895,
          39.88211382113821,
          38.055749128919864,
          38.51528384279476,
          38.75847457627118,
          39.32421875,
          38.44106463878327,
          39.63090128755365,
          39.21052631578947,
          39.69432314410481,
          39.722772277227726,
          39.567567567567565,
          39.8640350877193,
          39.13084112149533,
          38.853801169590646,
          40,
          39.71153846153846,
          39.60122699386503,
          38.69402985074627,
          39.845588235294116,
          37.923809523809524,
          38.18248175182482,
          39.20754716981132,
          38.582417582417584,
          37.180952380952384,
          39.02127659574468,
          36.56962025316456
         ],
         "yaxis": "y"
        },
        {
         "line": {
          "color": "red"
         },
         "marker": {
          "color": "lightpink"
         },
         "mode": "lines+markers",
         "name": "Heures par semaine (Femmes Synth)",
         "type": "scatter",
         "x": [
          17,
          18,
          19,
          20,
          21,
          22,
          23,
          24,
          25,
          26,
          27,
          28,
          29,
          30,
          31,
          32,
          33,
          34,
          35,
          36,
          37,
          38,
          39,
          40,
          41,
          42,
          43,
          44,
          45,
          46,
          47,
          48,
          49,
          50,
          51,
          52,
          53,
          54,
          55,
          56,
          57,
          58,
          60
         ],
         "xaxis": "x",
         "y": [
          42,
          32.888888888888886,
          38.45454545454545,
          41.875,
          36.27272727272727,
          44.23076923076923,
          41.42857142857143,
          40.416666666666664,
          42.63636363636363,
          43.81818181818182,
          40,
          33.77777777777778,
          47.22222222222222,
          41.083333333333336,
          41.5,
          45,
          41.416666666666664,
          40.57142857142857,
          38.75,
          36.125,
          37.5,
          35.888888888888886,
          39.5,
          41.25,
          43,
          52.666666666666664,
          36.666666666666664,
          40.57142857142857,
          42.111111111111114,
          41.5,
          18.333333333333332,
          37,
          34.666666666666664,
          41.5,
          51.375,
          45,
          47.5,
          65,
          46.25,
          34,
          45,
          40,
          41.333333333333336
         ],
         "yaxis": "y"
        },
        {
         "line": {
          "color": "orange"
         },
         "marker": {
          "color": "orange"
         },
         "mode": "lines+markers",
         "name": "Heures par semaine (Femmes Synth 100)",
         "type": "scatter",
         "x": [
          17,
          18,
          19,
          20,
          21,
          22,
          23,
          24,
          25,
          26,
          27,
          28,
          29,
          30,
          31,
          32,
          33,
          34,
          35,
          36,
          37,
          38,
          39,
          40,
          41,
          42,
          43,
          44,
          45,
          46,
          47,
          48,
          49,
          50,
          51,
          52,
          53,
          54,
          55,
          56,
          57,
          58,
          59,
          60
         ],
         "xaxis": "x",
         "y": [
          37.166666666666664,
          42.714285714285715,
          39.09090909090909,
          31.272727272727273,
          41,
          42,
          38.333333333333336,
          39.7,
          40,
          40,
          43,
          42.666666666666664,
          46.75,
          30.142857142857142,
          38.6,
          33.75,
          36.07692307692308,
          35.833333333333336,
          39,
          40,
          43.75,
          33,
          37.857142857142854,
          37.888888888888886,
          40,
          41,
          46.888888888888886,
          40.5,
          40,
          34.25,
          38.125,
          40,
          43.833333333333336,
          41,
          38.75,
          40.5,
          40,
          34.166666666666664,
          38.666666666666664,
          40,
          33.333333333333336,
          20,
          45,
          25.333333333333332
         ],
         "yaxis": "y"
        },
        {
         "line": {
          "color": "blue"
         },
         "marker": {
          "color": "blue"
         },
         "mode": "lines+markers",
         "name": "Heures par semaines (Hommes)",
         "type": "scatter",
         "x": [
          17,
          18,
          19,
          20,
          21,
          22,
          23,
          24,
          25,
          26,
          27,
          28,
          29,
          30,
          31,
          32,
          33,
          34,
          35,
          36,
          37,
          38,
          39,
          40,
          41,
          42,
          43,
          44,
          45,
          46,
          47,
          48,
          49,
          50,
          51,
          52,
          53,
          54,
          55,
          56,
          57,
          58,
          59,
          60
         ],
         "xaxis": "x2",
         "y": [
          22.636363636363637,
          26.71276595744681,
          32.693820224719104,
          35.264102564102565,
          36.29923273657289,
          37.040189125295505,
          38.16216216216216,
          40.49087221095335,
          41.553030303030305,
          42.567676767676765,
          43.144177449168204,
          43.48294434470377,
          43.760147601476014,
          43.947278911564624,
          44.38778877887789,
          44.596858638743456,
          44.269354838709674,
          44.925278219395864,
          45.48095238095238,
          45.700490998363335,
          45.59618441971383,
          46.16751269035533,
          45.691071428571426,
          44.4180790960452,
          44.51304347826087,
          44.86594202898551,
          44.75600739371534,
          45.83524904214559,
          44.91015625,
          44.282907662082515,
          44.945344129554655,
          45.215053763440864,
          45.33497536945813,
          45.437219730941706,
          44.673611111111114,
          44.66279069767442,
          44.73780487804878,
          44.15806451612903,
          44.269503546099294,
          43.223076923076924,
          43.78277153558052,
          42.333333333333336,
          43.030651340996165,
          41.88841201716738
         ],
         "yaxis": "y2"
        },
        {
         "line": {
          "color": "lightblue"
         },
         "marker": {
          "color": "lightblue"
         },
         "mode": "lines+markers",
         "name": "Heures par semaines (Hommes Synth)",
         "type": "scatter",
         "x": [
          17,
          18,
          19,
          20,
          21,
          22,
          23,
          24,
          25,
          26,
          27,
          28,
          29,
          30,
          31,
          32,
          33,
          34,
          35,
          36,
          37,
          38,
          39,
          40,
          41,
          42,
          43,
          44,
          45,
          46,
          47,
          48,
          49,
          50,
          51,
          52,
          53,
          54,
          55,
          56,
          57,
          58,
          59,
          60
         ],
         "xaxis": "x2",
         "y": [
          40.5,
          37.9,
          40.166666666666664,
          39.5,
          33.72727272727273,
          43.5,
          37.73684210526316,
          40.07692307692308,
          44.75,
          46.857142857142854,
          40.04545454545455,
          45.875,
          39.11764705882353,
          44.15384615384615,
          40.2,
          39.94444444444444,
          44.05882352941177,
          43.5,
          41.55555555555556,
          35.72222222222222,
          41.25,
          49.375,
          44.11764705882353,
          42.875,
          38.05555555555556,
          39.44444444444444,
          39.2,
          40.6,
          34.857142857142854,
          35.526315789473685,
          39.1764705882353,
          45.4,
          39,
          41.07692307692308,
          40.3,
          37.55555555555556,
          40.45454545454545,
          39.888888888888886,
          41.625,
          37.857142857142854,
          42.22222222222222,
          39.7,
          32.77777777777778,
          44.285714285714285
         ],
         "yaxis": "y2"
        },
        {
         "line": {
          "color": "green"
         },
         "marker": {
          "color": "green"
         },
         "mode": "lines+markers",
         "name": "Heures par semaines (Hommes Synth 100)",
         "type": "scatter",
         "x": [
          17,
          18,
          19,
          20,
          21,
          22,
          23,
          24,
          25,
          26,
          27,
          28,
          29,
          30,
          31,
          32,
          33,
          34,
          35,
          36,
          37,
          38,
          39,
          40,
          41,
          42,
          43,
          44,
          45,
          46,
          47,
          48,
          49,
          50,
          51,
          52,
          53,
          54,
          55,
          56,
          57,
          58,
          59,
          60
         ],
         "xaxis": "x2",
         "y": [
          35,
          36.111111111111114,
          37,
          38.833333333333336,
          41.375,
          36.5,
          50.357142857142854,
          41.357142857142854,
          39.411764705882355,
          41.94117647058823,
          40.8125,
          37.44444444444444,
          41.75,
          40.36842105263158,
          42.714285714285715,
          41.45,
          40.61538461538461,
          46.526315789473685,
          41.8421052631579,
          43.578947368421055,
          41.69565217391305,
          43.05,
          38.77777777777778,
          39.8125,
          40.5,
          43.75,
          37.3125,
          44,
          42.86666666666667,
          42.0625,
          49.57142857142857,
          40.36363636363637,
          44.55555555555556,
          41,
          42.5,
          43.8,
          39.61538461538461,
          43.2,
          37,
          49.5,
          40,
          41.25,
          46,
          51.666666666666664
         ],
         "yaxis": "y2"
        }
       ],
       "layout": {
        "annotations": [
         {
          "font": {
           "size": 16
          },
          "showarrow": false,
          "text": "Heures par semaine des Femmes",
          "x": 0.5,
          "xanchor": "center",
          "xref": "paper",
          "y": 1,
          "yanchor": "bottom",
          "yref": "paper"
         },
         {
          "font": {
           "size": 16
          },
          "showarrow": false,
          "text": "Revenu des Hommes",
          "x": 0.5,
          "xanchor": "center",
          "xref": "paper",
          "y": 0.375,
          "yanchor": "bottom",
          "yref": "paper"
         }
        ],
        "legend": {
         "title": {
          "text": "Variable"
         }
        },
        "template": {
         "data": {
          "bar": [
           {
            "error_x": {
             "color": "#2a3f5f"
            },
            "error_y": {
             "color": "#2a3f5f"
            },
            "marker": {
             "line": {
              "color": "white",
              "width": 0.5
             },
             "pattern": {
              "fillmode": "overlay",
              "size": 10,
              "solidity": 0.2
             }
            },
            "type": "bar"
           }
          ],
          "barpolar": [
           {
            "marker": {
             "line": {
              "color": "white",
              "width": 0.5
             },
             "pattern": {
              "fillmode": "overlay",
              "size": 10,
              "solidity": 0.2
             }
            },
            "type": "barpolar"
           }
          ],
          "carpet": [
           {
            "aaxis": {
             "endlinecolor": "#2a3f5f",
             "gridcolor": "#C8D4E3",
             "linecolor": "#C8D4E3",
             "minorgridcolor": "#C8D4E3",
             "startlinecolor": "#2a3f5f"
            },
            "baxis": {
             "endlinecolor": "#2a3f5f",
             "gridcolor": "#C8D4E3",
             "linecolor": "#C8D4E3",
             "minorgridcolor": "#C8D4E3",
             "startlinecolor": "#2a3f5f"
            },
            "type": "carpet"
           }
          ],
          "choropleth": [
           {
            "colorbar": {
             "outlinewidth": 0,
             "ticks": ""
            },
            "type": "choropleth"
           }
          ],
          "contour": [
           {
            "colorbar": {
             "outlinewidth": 0,
             "ticks": ""
            },
            "colorscale": [
             [
              0,
              "#0d0887"
             ],
             [
              0.1111111111111111,
              "#46039f"
             ],
             [
              0.2222222222222222,
              "#7201a8"
             ],
             [
              0.3333333333333333,
              "#9c179e"
             ],
             [
              0.4444444444444444,
              "#bd3786"
             ],
             [
              0.5555555555555556,
              "#d8576b"
             ],
             [
              0.6666666666666666,
              "#ed7953"
             ],
             [
              0.7777777777777778,
              "#fb9f3a"
             ],
             [
              0.8888888888888888,
              "#fdca26"
             ],
             [
              1,
              "#f0f921"
             ]
            ],
            "type": "contour"
           }
          ],
          "contourcarpet": [
           {
            "colorbar": {
             "outlinewidth": 0,
             "ticks": ""
            },
            "type": "contourcarpet"
           }
          ],
          "heatmap": [
           {
            "colorbar": {
             "outlinewidth": 0,
             "ticks": ""
            },
            "colorscale": [
             [
              0,
              "#0d0887"
             ],
             [
              0.1111111111111111,
              "#46039f"
             ],
             [
              0.2222222222222222,
              "#7201a8"
             ],
             [
              0.3333333333333333,
              "#9c179e"
             ],
             [
              0.4444444444444444,
              "#bd3786"
             ],
             [
              0.5555555555555556,
              "#d8576b"
             ],
             [
              0.6666666666666666,
              "#ed7953"
             ],
             [
              0.7777777777777778,
              "#fb9f3a"
             ],
             [
              0.8888888888888888,
              "#fdca26"
             ],
             [
              1,
              "#f0f921"
             ]
            ],
            "type": "heatmap"
           }
          ],
          "heatmapgl": [
           {
            "colorbar": {
             "outlinewidth": 0,
             "ticks": ""
            },
            "colorscale": [
             [
              0,
              "#0d0887"
             ],
             [
              0.1111111111111111,
              "#46039f"
             ],
             [
              0.2222222222222222,
              "#7201a8"
             ],
             [
              0.3333333333333333,
              "#9c179e"
             ],
             [
              0.4444444444444444,
              "#bd3786"
             ],
             [
              0.5555555555555556,
              "#d8576b"
             ],
             [
              0.6666666666666666,
              "#ed7953"
             ],
             [
              0.7777777777777778,
              "#fb9f3a"
             ],
             [
              0.8888888888888888,
              "#fdca26"
             ],
             [
              1,
              "#f0f921"
             ]
            ],
            "type": "heatmapgl"
           }
          ],
          "histogram": [
           {
            "marker": {
             "pattern": {
              "fillmode": "overlay",
              "size": 10,
              "solidity": 0.2
             }
            },
            "type": "histogram"
           }
          ],
          "histogram2d": [
           {
            "colorbar": {
             "outlinewidth": 0,
             "ticks": ""
            },
            "colorscale": [
             [
              0,
              "#0d0887"
             ],
             [
              0.1111111111111111,
              "#46039f"
             ],
             [
              0.2222222222222222,
              "#7201a8"
             ],
             [
              0.3333333333333333,
              "#9c179e"
             ],
             [
              0.4444444444444444,
              "#bd3786"
             ],
             [
              0.5555555555555556,
              "#d8576b"
             ],
             [
              0.6666666666666666,
              "#ed7953"
             ],
             [
              0.7777777777777778,
              "#fb9f3a"
             ],
             [
              0.8888888888888888,
              "#fdca26"
             ],
             [
              1,
              "#f0f921"
             ]
            ],
            "type": "histogram2d"
           }
          ],
          "histogram2dcontour": [
           {
            "colorbar": {
             "outlinewidth": 0,
             "ticks": ""
            },
            "colorscale": [
             [
              0,
              "#0d0887"
             ],
             [
              0.1111111111111111,
              "#46039f"
             ],
             [
              0.2222222222222222,
              "#7201a8"
             ],
             [
              0.3333333333333333,
              "#9c179e"
             ],
             [
              0.4444444444444444,
              "#bd3786"
             ],
             [
              0.5555555555555556,
              "#d8576b"
             ],
             [
              0.6666666666666666,
              "#ed7953"
             ],
             [
              0.7777777777777778,
              "#fb9f3a"
             ],
             [
              0.8888888888888888,
              "#fdca26"
             ],
             [
              1,
              "#f0f921"
             ]
            ],
            "type": "histogram2dcontour"
           }
          ],
          "mesh3d": [
           {
            "colorbar": {
             "outlinewidth": 0,
             "ticks": ""
            },
            "type": "mesh3d"
           }
          ],
          "parcoords": [
           {
            "line": {
             "colorbar": {
              "outlinewidth": 0,
              "ticks": ""
             }
            },
            "type": "parcoords"
           }
          ],
          "pie": [
           {
            "automargin": true,
            "type": "pie"
           }
          ],
          "scatter": [
           {
            "fillpattern": {
             "fillmode": "overlay",
             "size": 10,
             "solidity": 0.2
            },
            "type": "scatter"
           }
          ],
          "scatter3d": [
           {
            "line": {
             "colorbar": {
              "outlinewidth": 0,
              "ticks": ""
             }
            },
            "marker": {
             "colorbar": {
              "outlinewidth": 0,
              "ticks": ""
             }
            },
            "type": "scatter3d"
           }
          ],
          "scattercarpet": [
           {
            "marker": {
             "colorbar": {
              "outlinewidth": 0,
              "ticks": ""
             }
            },
            "type": "scattercarpet"
           }
          ],
          "scattergeo": [
           {
            "marker": {
             "colorbar": {
              "outlinewidth": 0,
              "ticks": ""
             }
            },
            "type": "scattergeo"
           }
          ],
          "scattergl": [
           {
            "marker": {
             "colorbar": {
              "outlinewidth": 0,
              "ticks": ""
             }
            },
            "type": "scattergl"
           }
          ],
          "scattermapbox": [
           {
            "marker": {
             "colorbar": {
              "outlinewidth": 0,
              "ticks": ""
             }
            },
            "type": "scattermapbox"
           }
          ],
          "scatterpolar": [
           {
            "marker": {
             "colorbar": {
              "outlinewidth": 0,
              "ticks": ""
             }
            },
            "type": "scatterpolar"
           }
          ],
          "scatterpolargl": [
           {
            "marker": {
             "colorbar": {
              "outlinewidth": 0,
              "ticks": ""
             }
            },
            "type": "scatterpolargl"
           }
          ],
          "scatterternary": [
           {
            "marker": {
             "colorbar": {
              "outlinewidth": 0,
              "ticks": ""
             }
            },
            "type": "scatterternary"
           }
          ],
          "surface": [
           {
            "colorbar": {
             "outlinewidth": 0,
             "ticks": ""
            },
            "colorscale": [
             [
              0,
              "#0d0887"
             ],
             [
              0.1111111111111111,
              "#46039f"
             ],
             [
              0.2222222222222222,
              "#7201a8"
             ],
             [
              0.3333333333333333,
              "#9c179e"
             ],
             [
              0.4444444444444444,
              "#bd3786"
             ],
             [
              0.5555555555555556,
              "#d8576b"
             ],
             [
              0.6666666666666666,
              "#ed7953"
             ],
             [
              0.7777777777777778,
              "#fb9f3a"
             ],
             [
              0.8888888888888888,
              "#fdca26"
             ],
             [
              1,
              "#f0f921"
             ]
            ],
            "type": "surface"
           }
          ],
          "table": [
           {
            "cells": {
             "fill": {
              "color": "#EBF0F8"
             },
             "line": {
              "color": "white"
             }
            },
            "header": {
             "fill": {
              "color": "#C8D4E3"
             },
             "line": {
              "color": "white"
             }
            },
            "type": "table"
           }
          ]
         },
         "layout": {
          "annotationdefaults": {
           "arrowcolor": "#2a3f5f",
           "arrowhead": 0,
           "arrowwidth": 1
          },
          "autotypenumbers": "strict",
          "coloraxis": {
           "colorbar": {
            "outlinewidth": 0,
            "ticks": ""
           }
          },
          "colorscale": {
           "diverging": [
            [
             0,
             "#8e0152"
            ],
            [
             0.1,
             "#c51b7d"
            ],
            [
             0.2,
             "#de77ae"
            ],
            [
             0.3,
             "#f1b6da"
            ],
            [
             0.4,
             "#fde0ef"
            ],
            [
             0.5,
             "#f7f7f7"
            ],
            [
             0.6,
             "#e6f5d0"
            ],
            [
             0.7,
             "#b8e186"
            ],
            [
             0.8,
             "#7fbc41"
            ],
            [
             0.9,
             "#4d9221"
            ],
            [
             1,
             "#276419"
            ]
           ],
           "sequential": [
            [
             0,
             "#0d0887"
            ],
            [
             0.1111111111111111,
             "#46039f"
            ],
            [
             0.2222222222222222,
             "#7201a8"
            ],
            [
             0.3333333333333333,
             "#9c179e"
            ],
            [
             0.4444444444444444,
             "#bd3786"
            ],
            [
             0.5555555555555556,
             "#d8576b"
            ],
            [
             0.6666666666666666,
             "#ed7953"
            ],
            [
             0.7777777777777778,
             "#fb9f3a"
            ],
            [
             0.8888888888888888,
             "#fdca26"
            ],
            [
             1,
             "#f0f921"
            ]
           ],
           "sequentialminus": [
            [
             0,
             "#0d0887"
            ],
            [
             0.1111111111111111,
             "#46039f"
            ],
            [
             0.2222222222222222,
             "#7201a8"
            ],
            [
             0.3333333333333333,
             "#9c179e"
            ],
            [
             0.4444444444444444,
             "#bd3786"
            ],
            [
             0.5555555555555556,
             "#d8576b"
            ],
            [
             0.6666666666666666,
             "#ed7953"
            ],
            [
             0.7777777777777778,
             "#fb9f3a"
            ],
            [
             0.8888888888888888,
             "#fdca26"
            ],
            [
             1,
             "#f0f921"
            ]
           ]
          },
          "colorway": [
           "#636efa",
           "#EF553B",
           "#00cc96",
           "#ab63fa",
           "#FFA15A",
           "#19d3f3",
           "#FF6692",
           "#B6E880",
           "#FF97FF",
           "#FECB52"
          ],
          "font": {
           "color": "#2a3f5f"
          },
          "geo": {
           "bgcolor": "white",
           "lakecolor": "white",
           "landcolor": "white",
           "showlakes": true,
           "showland": true,
           "subunitcolor": "#C8D4E3"
          },
          "hoverlabel": {
           "align": "left"
          },
          "hovermode": "closest",
          "mapbox": {
           "style": "light"
          },
          "paper_bgcolor": "white",
          "plot_bgcolor": "white",
          "polar": {
           "angularaxis": {
            "gridcolor": "#EBF0F8",
            "linecolor": "#EBF0F8",
            "ticks": ""
           },
           "bgcolor": "white",
           "radialaxis": {
            "gridcolor": "#EBF0F8",
            "linecolor": "#EBF0F8",
            "ticks": ""
           }
          },
          "scene": {
           "xaxis": {
            "backgroundcolor": "white",
            "gridcolor": "#DFE8F3",
            "gridwidth": 2,
            "linecolor": "#EBF0F8",
            "showbackground": true,
            "ticks": "",
            "zerolinecolor": "#EBF0F8"
           },
           "yaxis": {
            "backgroundcolor": "white",
            "gridcolor": "#DFE8F3",
            "gridwidth": 2,
            "linecolor": "#EBF0F8",
            "showbackground": true,
            "ticks": "",
            "zerolinecolor": "#EBF0F8"
           },
           "zaxis": {
            "backgroundcolor": "white",
            "gridcolor": "#DFE8F3",
            "gridwidth": 2,
            "linecolor": "#EBF0F8",
            "showbackground": true,
            "ticks": "",
            "zerolinecolor": "#EBF0F8"
           }
          },
          "shapedefaults": {
           "line": {
            "color": "#2a3f5f"
           }
          },
          "ternary": {
           "aaxis": {
            "gridcolor": "#DFE8F3",
            "linecolor": "#A2B1C6",
            "ticks": ""
           },
           "baxis": {
            "gridcolor": "#DFE8F3",
            "linecolor": "#A2B1C6",
            "ticks": ""
           },
           "bgcolor": "white",
           "caxis": {
            "gridcolor": "#DFE8F3",
            "linecolor": "#A2B1C6",
            "ticks": ""
           }
          },
          "title": {
           "x": 0.05
          },
          "xaxis": {
           "automargin": true,
           "gridcolor": "#EBF0F8",
           "linecolor": "#EBF0F8",
           "ticks": "",
           "title": {
            "standoff": 15
           },
           "zerolinecolor": "#EBF0F8",
           "zerolinewidth": 2
          },
          "yaxis": {
           "automargin": true,
           "gridcolor": "#EBF0F8",
           "linecolor": "#EBF0F8",
           "ticks": "",
           "title": {
            "standoff": 15
           },
           "zerolinecolor": "#EBF0F8",
           "zerolinewidth": 2
          }
         }
        },
        "title": {
         "text": "Comparaison des heures par semaine des Femmes et des Hommes selon l'Âge"
        },
        "xaxis": {
         "anchor": "y",
         "domain": [
          0,
          1
         ],
         "title": {
          "text": "Âge"
         }
        },
        "xaxis2": {
         "anchor": "y2",
         "domain": [
          0,
          1
         ]
        },
        "yaxis": {
         "anchor": "x",
         "domain": [
          0.625,
          1
         ],
         "title": {
          "text": "Moyenne des heures par semaine"
         }
        },
        "yaxis2": {
         "anchor": "x2",
         "domain": [
          0,
          0.375
         ]
        }
       }
      }
     },
     "metadata": {},
     "output_type": "display_data"
    }
   ],
   "source": [
    "import plotly.graph_objects as go\n",
    "from plotly.subplots import make_subplots\n",
    "\n",
    "# Créer un subplot avec 2 lignes\n",
    "fig = make_subplots(rows=2, cols=1, \n",
    "                    subplot_titles=(\"Heures par semaine des Femmes\", \"Revenu des Hommes\"))\n",
    "\n",
    "# Ajout des heures par semaine pour les femmes (rose)\n",
    "fig.add_trace(go.Scatter(\n",
    "    x=women_avg_hours['age'], \n",
    "    y=women_avg_hours['hours_per_week'], \n",
    "    mode='lines+markers',\n",
    "    name='Heures par semaine (Femmes)',\n",
    "    line=dict(color='lightpink'),  # Rose clair\n",
    "    marker=dict(color='pink'),       # Rose\n",
    "), row=1, col=1)\n",
    "\n",
    "# Ajout des heures par semaine pour les femmes dans synth (rose)\n",
    "fig.add_trace(go.Scatter(\n",
    "    x=women_avg_hours_synth['age'], \n",
    "    y=women_avg_hours_synth['hours_per_week'], \n",
    "    mode='lines+markers',\n",
    "    name='Heures par semaine (Femmes Synth)',\n",
    "    line=dict(color='red'),          # Rose\n",
    "    marker=dict(color='lightpink')   # Rose clair\n",
    "), row=1, col=1)\n",
    "\n",
    "# Ajout des heures par semaine pour les femmes dans synth 1000 (rose)\n",
    "\n",
    "fig.add_trace(go.Scatter(\n",
    "    x = women_avg_hours_synth_1000['age'],\n",
    "    y = women_avg_hours_synth_1000['hours_per_week'],\n",
    "    mode = 'lines+markers',\n",
    "    name = 'Heures par semaine (Femmes Synth 100)',\n",
    "    line = dict(color = 'orange'),\n",
    "    marker = dict(color = 'orange')\n",
    "), row = 1, col = 1)\n",
    "\n",
    "# Ajout des revenus pour les hommes (bleu)\n",
    "fig.add_trace(go.Scatter(\n",
    "    x=men_avg_income['age'], \n",
    "    y=men_avg_income['hours_per_week'], \n",
    "    mode='lines+markers',\n",
    "    name='Heures par semaines (Hommes)',\n",
    "    line=dict(color='blue'),         # Bleu\n",
    "    marker=dict(color='blue')   # Bleu clair\n",
    "), row=2, col=1)\n",
    "\n",
    "# Ajout des revenus pour les hommes dans synth (bleu clair)\n",
    "fig.add_trace(go.Scatter(\n",
    "    x=men_avg_income_synth['age'], \n",
    "    y=men_avg_income_synth['hours_per_week'], \n",
    "    mode='lines+markers',\n",
    "    name='Heures par semaines (Hommes Synth)',\n",
    "    line=dict(color='lightblue'),    # Bleu clair\n",
    "    marker=dict(color='lightblue')         # Bleu\n",
    "), row=2, col=1)\n",
    "\n",
    "# Ajout des revenus pour les hommes dans synth 1000 (bleu clair)\n",
    "fig.add_trace(go.Scatter(\n",
    "    x=men_avg_income_synth_1000['age'],\n",
    "    y=men_avg_income_synth_1000['hours_per_week'],\n",
    "    mode='lines+markers',\n",
    "    name='Heures par semaines (Hommes Synth 100)',\n",
    "    line=dict(color='green'),\n",
    "    marker=dict(color='green')\n",
    "), row=2, col=1)\n",
    "\n",
    "\n",
    "# Mise en forme du graphique\n",
    "fig.update_layout(\n",
    "    title=\"Comparaison des heures par semaine des Femmes et des Hommes selon l'Âge\",\n",
    "    xaxis_title=\"Âge\",\n",
    "    yaxis_title=\"Moyenne des heures par semaine\",\n",
    "    legend_title=\"Variable\",\n",
    "    template=\"plotly_white\"\n",
    ")\n",
    "\n",
    "# Affichage du graphique\n",
    "fig.show()\n"
   ]
  }
 ],
 "metadata": {
  "kernelspec": {
   "display_name": "myenv",
   "language": "python",
   "name": "python3"
  },
  "language_info": {
   "codemirror_mode": {
    "name": "ipython",
    "version": 3
   },
   "file_extension": ".py",
   "mimetype": "text/x-python",
   "name": "python",
   "nbconvert_exporter": "python",
   "pygments_lexer": "ipython3",
   "version": "3.12.6"
  }
 },
 "nbformat": 4,
 "nbformat_minor": 2
}
