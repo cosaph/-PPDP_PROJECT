{
 "cells": [
  {
   "cell_type": "markdown",
   "metadata": {},
   "source": [
    "### Import des libraires "
   ]
  },
  {
   "cell_type": "code",
   "execution_count": 3,
   "metadata": {},
   "outputs": [],
   "source": [
    "from snsynth import Synthesizer\n",
    "import matplotlib.pyplot as plt\n",
    "import seaborn as sns\n",
    "import pyspark\n",
    "from pyspark.sql import SparkSession\n",
    "from pyspark.sql.functions import *\n",
    "import pandas as pd\n",
    "import plotly.graph_objects as go\n",
    "from snsynth.mst import MSTSynthesizer\n",
    "from sklearn.linear_model import LogisticRegression\n",
    "from sklearn.model_selection import train_test_split\n",
    "from sklearn.metrics import accuracy_score, confusion_matrix, classification_report\n",
    "from plotly.subplots import make_subplots\n",
    "import statsmodels.api as sm\n",
    "from scipy import stats\n",
    "\n",
    "\n"
   ]
  },
  {
   "cell_type": "markdown",
   "metadata": {},
   "source": [
    "### Chargement du jeu de données Adult.data"
   ]
  },
  {
   "cell_type": "code",
   "execution_count": 4,
   "metadata": {},
   "outputs": [
    {
     "name": "stdout",
     "output_type": "stream",
     "text": [
      "   age          workclass  fnlwgt   education  education_num  \\\n",
      "0   39          State-gov   77516   Bachelors             13   \n",
      "1   50   Self-emp-not-inc   83311   Bachelors             13   \n",
      "2   38            Private  215646     HS-grad              9   \n",
      "3   53            Private  234721        11th              7   \n",
      "4   28            Private  338409   Bachelors             13   \n",
      "\n",
      "        marital_status          occupation    relationship    race      sex  \\\n",
      "0        Never-married        Adm-clerical   Not-in-family   White     Male   \n",
      "1   Married-civ-spouse     Exec-managerial         Husband   White     Male   \n",
      "2             Divorced   Handlers-cleaners   Not-in-family   White     Male   \n",
      "3   Married-civ-spouse   Handlers-cleaners         Husband   Black     Male   \n",
      "4   Married-civ-spouse      Prof-specialty            Wife   Black   Female   \n",
      "\n",
      "   capital_gain  capital_loss  hours_per_week  native_country  income  \n",
      "0          2174             0              40   United-States   <=50K  \n",
      "1             0             0              13   United-States   <=50K  \n",
      "2             0             0              40   United-States   <=50K  \n",
      "3             0             0              40   United-States   <=50K  \n",
      "4             0             0              40            Cuba   <=50K  \n"
     ]
    }
   ],
   "source": [
    "#aldult.data\n",
    "pums = pd.read_csv(\"adult.data\", header=None, names=[\n",
    "    \"age\", \"workclass\", \"fnlwgt\", \"education\", \"education_num\", \"marital_status\", \"occupation\", \n",
    "    \"relationship\", \"race\", \"sex\", \"capital_gain\", \"capital_loss\", \"hours_per_week\", \"native_country\", \"income\"])\n",
    "\n",
    "print(pums.head())  \n",
    "\n"
   ]
  },
  {
   "cell_type": "markdown",
   "metadata": {},
   "source": [
    "### On applique l'algorithme MST (maximum spanning tree)"
   ]
  },
  {
   "cell_type": "markdown",
   "metadata": {},
   "source": [
    "#### epsilon = 1 (beaucoup de bruitage)"
   ]
  },
  {
   "cell_type": "code",
   "execution_count": 5,
   "metadata": {},
   "outputs": [
    {
     "name": "stdout",
     "output_type": "stream",
     "text": [
      "Spent 0.01 epsilon on preprocessor, leaving 0.98 for training\n",
      "Fitting with 8366677401600000 dimensions\n",
      "Getting cliques\n",
      "Estimating marginals\n"
     ]
    }
   ],
   "source": [
    "# Pour epsilon = 1 avec allocation correcte\n",
    "synth_1 = Synthesizer.create(\"mst\", epsilon=0.99, verbose=True)\n",
    "synth_1.fit(pums, preprocessor_eps=0.01)  # Allouer 0.1 au préprocesseur\n",
    "pums_synth_1 = synth_1.sample(32561)  # Allouer le reste au synthétiseur"
   ]
  },
  {
   "cell_type": "markdown",
   "metadata": {},
   "source": [
    "#### epsilon = 100 (un peu de bruitage)"
   ]
  },
  {
   "cell_type": "code",
   "execution_count": 6,
   "metadata": {},
   "outputs": [
    {
     "name": "stdout",
     "output_type": "stream",
     "text": [
      "Spent 1.0 epsilon on preprocessor, leaving 99.0 for training\n",
      "Fitting with 8366677401600000 dimensions\n",
      "Getting cliques\n",
      "Estimating marginals\n"
     ]
    }
   ],
   "source": [
    "epsilon_total = 100\n",
    "\n",
    "# Pour epsilon = 100 avec allocation correcte\n",
    "synth = Synthesizer.create(\"mst\", epsilon=epsilon_total, verbose=True)\n",
    "synth.fit(pums, preprocessor_eps=1.0)  # Allouer 1.0 au préprocesseur\n",
    "pums_synth = synth.sample(32561)  # Allouer le reste au synthétiseur\n"
   ]
  },
  {
   "cell_type": "code",
   "execution_count": null,
   "metadata": {},
   "outputs": [
    {
     "name": "stdout",
     "output_type": "stream",
     "text": [
      "   age   workclass    fnlwgt      education  education_num  \\\n",
      "0   62     Private  134348.8     Assoc-acdm             12   \n",
      "1   53     Private  173670.4        HS-grad              9   \n",
      "2   60     Private  252313.6   Some-college             10   \n",
      "3   36   Local-gov  232652.8           10th              6   \n",
      "4   32     Private  193331.2   Some-college             10   \n",
      "\n",
      "        marital_status          occupation     relationship    race      sex  \\\n",
      "0             Divorced        Adm-clerical    Not-in-family   White     Male   \n",
      "1   Married-civ-spouse     Farming-fishing          Husband   White     Male   \n",
      "2              Widowed   Handlers-cleaners   Other-relative   White   Female   \n",
      "3   Married-civ-spouse     Protective-serv          Husband   White     Male   \n",
      "4             Divorced               Sales    Not-in-family   White     Male   \n",
      "\n",
      "   capital_gain  capital_loss  hours_per_week  native_country  income  \n",
      "0          0.05          0.05              45   United-States   <=50K  \n",
      "1          0.05          0.05              50   United-States    >50K  \n",
      "2          0.95          0.05              45          Mexico   <=50K  \n",
      "3          0.05          0.05              35   United-States   <=50K  \n",
      "4          0.05          0.05              50   United-States   <=50K  \n"
     ]
    }
   ],
   "source": [
    "#print(pums_synth.head())\n",
    "\n",
    "print(pums_synth_1.head())\n"
   ]
  },
  {
   "cell_type": "code",
   "execution_count": null,
   "metadata": {},
   "outputs": [
    {
     "name": "stdout",
     "output_type": "stream",
     "text": [
      "   age          workclass  fnlwgt   education  education_num  \\\n",
      "0   39          State-gov   77516   Bachelors             13   \n",
      "1   50   Self-emp-not-inc   83311   Bachelors             13   \n",
      "2   38            Private  215646     HS-grad              9   \n",
      "3   53            Private  234721        11th              7   \n",
      "4   28            Private  338409   Bachelors             13   \n",
      "\n",
      "        marital_status          occupation    relationship    race      sex  \\\n",
      "0        Never-married        Adm-clerical   Not-in-family   White     Male   \n",
      "1   Married-civ-spouse     Exec-managerial         Husband   White     Male   \n",
      "2             Divorced   Handlers-cleaners   Not-in-family   White     Male   \n",
      "3   Married-civ-spouse   Handlers-cleaners         Husband   Black     Male   \n",
      "4   Married-civ-spouse      Prof-specialty            Wife   Black   Female   \n",
      "\n",
      "   capital_gain  capital_loss  hours_per_week  native_country  income  \n",
      "0          2174             0              40   United-States   <=50K  \n",
      "1             0             0              13   United-States   <=50K  \n",
      "2             0             0              40   United-States   <=50K  \n",
      "3             0             0              40   United-States   <=50K  \n",
      "4             0             0              40            Cuba   <=50K  \n"
     ]
    }
   ],
   "source": [
    "print(pums.head())\n"
   ]
  },
  {
   "cell_type": "code",
   "execution_count": null,
   "metadata": {},
   "outputs": [
    {
     "name": "stdout",
     "output_type": "stream",
     "text": [
      "    age          workclass    fnlwgt      education  education_num  \\\n",
      "2    60            Private  252313.6   Some-college             10   \n",
      "6    22            Private  252313.6        HS-grad              9   \n",
      "8    26   Self-emp-not-inc  173670.4        HS-grad              9   \n",
      "18   51            Private   95027.2           11th              7   \n",
      "21   42            Private  114688.0        HS-grad              9   \n",
      "\n",
      "    marital_status          occupation     relationship    race     sex  \\\n",
      "2          Widowed   Handlers-cleaners   Other-relative   White  female   \n",
      "6    Never-married       Other-service    Not-in-family   Black  female   \n",
      "8    Never-married               Sales        Own-child   White  female   \n",
      "18        Divorced        Craft-repair        Unmarried   White  female   \n",
      "21        Divorced        Craft-repair        Unmarried   Black  female   \n",
      "\n",
      "    capital_gain  capital_loss  hours_per_week  native_country  income  \n",
      "2           0.95          0.05              45          Mexico   <=50K  \n",
      "6           0.55          0.05              38     Puerto-Rico   <=50K  \n",
      "8           0.05          0.05              45   United-States   <=50K  \n",
      "18          0.05          0.05              40   United-States   <=50K  \n",
      "21          0.05          0.05              40   United-States   <=50K  \n"
     ]
    }
   ],
   "source": [
    "# Suppression des espaces et mise en minuscules \n",
    "pums['sex'] = pums['sex'].str.strip().str.lower()\n",
    "pums_synth['sex'] = pums_synth['sex'].str.strip().str.lower()\n",
    "pums_synth_1['sex'] = pums_synth_1['sex'].str.strip().str.lower()\n",
    "\n",
    "\n",
    "female_data = pums[pums['sex'] == 'female']\n",
    "female_data_synth = pums_synth[pums_synth['sex'] == 'female']\n",
    "female_data_synth_1 = pums_synth_1[pums_synth_1['sex'] == 'female']\n",
    "\n",
    "male_data = pums[pums['sex'] == 'male']\n",
    "male_data_synth = pums_synth[pums_synth['sex'] == 'male']\n",
    "male_data_synth_1 = pums_synth_1[pums_synth_1['sex'] == 'male']\n",
    "\n",
    "#print(female_data.head())\n",
    "print(female_data_synth_1.head())\n"
   ]
  },
  {
   "cell_type": "code",
   "execution_count": null,
   "metadata": {},
   "outputs": [
    {
     "ename": "NameError",
     "evalue": "name 'female_data' is not defined",
     "output_type": "error",
     "traceback": [
      "\u001b[0;31m---------------------------------------------------------------------------\u001b[0m",
      "\u001b[0;31mNameError\u001b[0m                                 Traceback (most recent call last)",
      "\u001b[1;32m/Users/cosaph/Desktop/ENSAI3A/projet/mst.ipynb Cell 13\u001b[0m line \u001b[0;36m2\n\u001b[1;32m      <a href='vscode-notebook-cell:/Users/cosaph/Desktop/ENSAI3A/projet/mst.ipynb#X11sZmlsZQ%3D%3D?line=0'>1</a>\u001b[0m \u001b[39m# La retraite à 60 ans\u001b[39;00m\n\u001b[0;32m----> <a href='vscode-notebook-cell:/Users/cosaph/Desktop/ENSAI3A/projet/mst.ipynb#X11sZmlsZQ%3D%3D?line=1'>2</a>\u001b[0m female_data \u001b[39m=\u001b[39m female_data[female_data[\u001b[39m'\u001b[39m\u001b[39mage\u001b[39m\u001b[39m'\u001b[39m] \u001b[39m<\u001b[39m\u001b[39m=\u001b[39m \u001b[39m60\u001b[39m]\n\u001b[1;32m      <a href='vscode-notebook-cell:/Users/cosaph/Desktop/ENSAI3A/projet/mst.ipynb#X11sZmlsZQ%3D%3D?line=2'>3</a>\u001b[0m female_data_synth \u001b[39m=\u001b[39m female_data_synth[female_data_synth[\u001b[39m'\u001b[39m\u001b[39mage\u001b[39m\u001b[39m'\u001b[39m] \u001b[39m<\u001b[39m\u001b[39m=\u001b[39m \u001b[39m60\u001b[39m]\n\u001b[1;32m      <a href='vscode-notebook-cell:/Users/cosaph/Desktop/ENSAI3A/projet/mst.ipynb#X11sZmlsZQ%3D%3D?line=3'>4</a>\u001b[0m female_data_synth_1 \u001b[39m=\u001b[39m female_data_synth_1[female_data_synth_1[\u001b[39m'\u001b[39m\u001b[39mage\u001b[39m\u001b[39m'\u001b[39m] \u001b[39m<\u001b[39m\u001b[39m=\u001b[39m \u001b[39m60\u001b[39m]\n",
      "\u001b[0;31mNameError\u001b[0m: name 'female_data' is not defined"
     ]
    }
   ],
   "source": [
    "# La retraite à 60 ans\n",
    "female_data = female_data[female_data['age'] <= 60]\n",
    "female_data_synth = female_data_synth[female_data_synth['age'] <= 60]\n",
    "female_data_synth_1 = female_data_synth_1[female_data_synth_1['age'] <= 60]\n",
    "\n",
    "\n",
    "male_data = male_data[male_data['age'] <= 60]\n",
    "male_data_synth = male_data_synth[male_data_synth['age'] <= 60]\n",
    "male_data_synth_1 = male_data_synth_1[male_data_synth_1['age'] <= 60]\n",
    "\n"
   ]
  },
  {
   "cell_type": "code",
   "execution_count": null,
   "metadata": {},
   "outputs": [
    {
     "name": "stdout",
     "output_type": "stream",
     "text": [
      "age               38.500000\n",
      "hours_per_week    37.302894\n",
      "dtype: float64\n",
      "-------------------\n",
      "age               38.500000\n",
      "hours_per_week    40.580856\n",
      "dtype: float64\n",
      "----------------\n",
      "age               38.500000\n",
      "hours_per_week    40.591669\n",
      "dtype: float64\n"
     ]
    }
   ],
   "source": [
    "\n",
    "\n",
    "# Calculer la moyenne des heures par semaine pour les femmes par tranche d'âge\n",
    "women_avg_hours = female_data.groupby('age')['hours_per_week'].mean().reset_index()\n",
    "women_avg_hours_synth = female_data_synth.groupby('age')['hours_per_week'].mean().reset_index()\n",
    "women_avg_hours_synth_1 = female_data_synth_1.groupby('age')['hours_per_week'].mean().reset_index()\n",
    "\n",
    "# Calculer la moyenne des revenus pour les hommes par tranche d'âge\n",
    "men_avg_income = male_data.groupby('age')['hours_per_week'].mean().reset_index()\n",
    "men_avg_income_synth = male_data_synth.groupby('age')['hours_per_week'].mean().reset_index()\n",
    "men_avg_income_synth_1 = male_data_synth_1.groupby('age')['hours_per_week'].mean().reset_index()\n",
    "\n",
    "#print(female_data.head())\n",
    "#print(female_data_synth.head())\n",
    "\n",
    "print(women_avg_hours.mean())\n",
    "print('-------------------')\n",
    "print(women_avg_hours_synth.mean())\n",
    "print('----------------')\n",
    "print(women_avg_hours_synth_1.mean())\n"
   ]
  },
  {
   "cell_type": "code",
   "execution_count": null,
   "metadata": {},
   "outputs": [
    {
     "data": {
      "application/vnd.plotly.v1+json": {
       "config": {
        "plotlyServerURL": "https://plot.ly"
       },
       "data": [
        {
         "line": {
          "color": "lightpink"
         },
         "marker": {
          "color": "pink"
         },
         "mode": "lines+markers",
         "name": "Heures par semaine (Femmes)",
         "type": "scatter",
         "x": [
          17,
          18,
          19,
          20,
          21,
          22,
          23,
          24,
          25,
          26,
          27,
          28,
          29,
          30,
          31,
          32,
          33,
          34,
          35,
          36,
          37,
          38,
          39,
          40,
          41,
          42,
          43,
          44,
          45,
          46,
          47,
          48,
          49,
          50,
          51,
          52,
          53,
          54,
          55,
          56,
          57,
          58,
          59,
          60
         ],
         "xaxis": "x",
         "y": [
          19.940860215053764,
          25.07089552238806,
          28.662921348314608,
          29.074380165289256,
          31.343465045592705,
          32.85964912280702,
          34.63509749303621,
          36.82295081967213,
          37.39936102236422,
          38.5,
          40.006802721088434,
          39.41290322580645,
          39.57564575645756,
          38.333333333333336,
          39.63120567375886,
          39.015686274509804,
          39.79607843137255,
          38.0739299610895,
          39.88211382113821,
          38.055749128919864,
          38.51528384279476,
          38.75847457627118,
          39.32421875,
          38.44106463878327,
          39.63090128755365,
          39.21052631578947,
          39.69432314410481,
          39.722772277227726,
          39.567567567567565,
          39.8640350877193,
          39.13084112149533,
          38.853801169590646,
          40,
          39.71153846153846,
          39.60122699386503,
          38.69402985074627,
          39.845588235294116,
          37.923809523809524,
          38.18248175182482,
          39.20754716981132,
          38.582417582417584,
          37.180952380952384,
          39.02127659574468,
          36.56962025316456
         ],
         "yaxis": "y"
        },
        {
         "line": {
          "color": "red"
         },
         "marker": {
          "color": "lightpink"
         },
         "mode": "lines+markers",
         "name": "Heures par semaine (Femmes Synth)",
         "type": "scatter",
         "x": [
          17,
          18,
          19,
          20,
          21,
          22,
          23,
          24,
          25,
          26,
          27,
          28,
          29,
          30,
          31,
          32,
          33,
          34,
          35,
          36,
          37,
          38,
          39,
          40,
          41,
          42,
          43,
          44,
          45,
          46,
          47,
          48,
          49,
          50,
          51,
          52,
          53,
          54,
          55,
          56,
          57,
          58,
          59,
          60
         ],
         "xaxis": "x",
         "y": [
          25.985,
          29.653696498054476,
          32.192192192192195,
          34.25074626865672,
          34.52870090634441,
          35.77158774373259,
          37.64324324324324,
          38.81686046511628,
          39.68471337579618,
          41.061093247588424,
          42.038216560509554,
          41.99348534201955,
          42.07865168539326,
          41.617747440273035,
          41.23859649122807,
          43.208835341365464,
          42.08771929824562,
          42.7037037037037,
          43.16896551724138,
          42.364583333333336,
          43.008,
          43.68348623853211,
          42.86142322097378,
          42.42307692307692,
          42.602409638554214,
          42.39565217391304,
          41.85572139303483,
          42.926829268292686,
          41.94444444444444,
          42.29032258064516,
          41.933673469387756,
          41.21568627450981,
          42.31428571428572,
          43.222857142857144,
          42.05161290322581,
          42.171875,
          41.609756097560975,
          43.71296296296296,
          42.282051282051285,
          41.65263157894737,
          44.241379310344826,
          39.81111111111111,
          40.53932584269663,
          40.71875
         ],
         "yaxis": "y"
        },
        {
         "line": {
          "color": "yellow"
         },
         "marker": {
          "color": "yellow"
         },
         "mode": "lines+markers",
         "name": "Heures par semaine (Femmes Synth 100)",
         "type": "scatter",
         "x": [
          17,
          18,
          19,
          20,
          21,
          22,
          23,
          24,
          25,
          26,
          27,
          28,
          29,
          30,
          31,
          32,
          33,
          34,
          35,
          36,
          37,
          38,
          39,
          40,
          41,
          42,
          43,
          44,
          45,
          46,
          47,
          48,
          49,
          50,
          51,
          52,
          53,
          54,
          55,
          56,
          57,
          58,
          59,
          60
         ],
         "xaxis": "x",
         "y": [
          40.4954128440367,
          38.83018867924528,
          40.41520467836257,
          39.40816326530612,
          39.794721407624635,
          40.384126984126986,
          41.294117647058826,
          39.895081967213116,
          41.311688311688314,
          38.954983922829584,
          40.8955223880597,
          40.01360544217687,
          40.411764705882355,
          40.455089820359284,
          40.75636363636364,
          41.776978417266186,
          40.934615384615384,
          41.28897338403042,
          40.63257575757576,
          41.348837209302324,
          38.713592233009706,
          41.47767857142857,
          40.504629629629626,
          41.17391304347826,
          40.865800865800864,
          40.62643678160919,
          40.643153526970956,
          41.67307692307692,
          40.34782608695652,
          39.46788990825688,
          41.629107981220656,
          41.66386554621849,
          39.21463414634146,
          39.108108108108105,
          39.523809523809526,
          41.091603053435115,
          40.592233009708735,
          40.93684210526316,
          41.795918367346935,
          39.79120879120879,
          41.13,
          41.705263157894734,
          41.945205479452056,
          41.11363636363637
         ],
         "yaxis": "y"
        },
        {
         "line": {
          "color": "blue"
         },
         "marker": {
          "color": "blue"
         },
         "mode": "lines+markers",
         "name": "Heures par semaines (Hommes)",
         "type": "scatter",
         "x": [
          17,
          18,
          19,
          20,
          21,
          22,
          23,
          24,
          25,
          26,
          27,
          28,
          29,
          30,
          31,
          32,
          33,
          34,
          35,
          36,
          37,
          38,
          39,
          40,
          41,
          42,
          43,
          44,
          45,
          46,
          47,
          48,
          49,
          50,
          51,
          52,
          53,
          54,
          55,
          56,
          57,
          58,
          59,
          60
         ],
         "xaxis": "x2",
         "y": [
          22.636363636363637,
          26.71276595744681,
          32.693820224719104,
          35.264102564102565,
          36.29923273657289,
          37.040189125295505,
          38.16216216216216,
          40.49087221095335,
          41.553030303030305,
          42.567676767676765,
          43.144177449168204,
          43.48294434470377,
          43.760147601476014,
          43.947278911564624,
          44.38778877887789,
          44.596858638743456,
          44.269354838709674,
          44.925278219395864,
          45.48095238095238,
          45.700490998363335,
          45.59618441971383,
          46.16751269035533,
          45.691071428571426,
          44.4180790960452,
          44.51304347826087,
          44.86594202898551,
          44.75600739371534,
          45.83524904214559,
          44.91015625,
          44.282907662082515,
          44.945344129554655,
          45.215053763440864,
          45.33497536945813,
          45.437219730941706,
          44.673611111111114,
          44.66279069767442,
          44.73780487804878,
          44.15806451612903,
          44.269503546099294,
          43.223076923076924,
          43.78277153558052,
          42.333333333333336,
          43.030651340996165,
          41.88841201716738
         ],
         "yaxis": "y2"
        },
        {
         "line": {
          "color": "lightblue"
         },
         "marker": {
          "color": "lightblue"
         },
         "mode": "lines+markers",
         "name": "Heures par semaines (Hommes Synth)",
         "type": "scatter",
         "x": [
          17,
          18,
          19,
          20,
          21,
          22,
          23,
          24,
          25,
          26,
          27,
          28,
          29,
          30,
          31,
          32,
          33,
          34,
          35,
          36,
          37,
          38,
          39,
          40,
          41,
          42,
          43,
          44,
          45,
          46,
          47,
          48,
          49,
          50,
          51,
          52,
          53,
          54,
          55,
          56,
          57,
          58,
          59,
          60
         ],
         "xaxis": "x2",
         "y": [
          27.073529411764707,
          28.260563380281692,
          32.0186170212766,
          33.14878048780488,
          35.638242894056845,
          36.98048780487805,
          37.201195219123505,
          39.265795206971674,
          39.99812030075188,
          40.016949152542374,
          41.43604651162791,
          41.52127659574468,
          41.36598890942699,
          41.25964912280702,
          42.20764119601329,
          42.38850174216028,
          42.030560271646856,
          42.15901639344262,
          42.86241610738255,
          42.45171849427169,
          42.52396694214876,
          42.60358890701468,
          42.8125,
          41.2831541218638,
          42.084837545126355,
          42.525454545454544,
          42.90350877192982,
          43.316306483300586,
          42.534749034749034,
          42.46911196911197,
          42.56078431372549,
          42.622739018087856,
          42.17293233082707,
          42.24480369515012,
          42.80855855855856,
          41.722063037249285,
          41.44219653179191,
          41.6078431372549,
          41.83388704318937,
          41.49264705882353,
          42.014869888475836,
          41.026119402985074,
          42.29811320754717,
          39.887387387387385
         ],
         "yaxis": "y2"
        },
        {
         "line": {
          "color": "green"
         },
         "marker": {
          "color": "green"
         },
         "mode": "lines+markers",
         "name": "Heures par semaines (Hommes Synth 100)",
         "type": "scatter",
         "x": [
          17,
          18,
          19,
          20,
          21,
          22,
          23,
          24,
          25,
          26,
          27,
          28,
          29,
          30,
          31,
          32,
          33,
          34,
          35,
          36,
          37,
          38,
          39,
          40,
          41,
          42,
          43,
          44,
          45,
          46,
          47,
          48,
          49,
          50,
          51,
          52,
          53,
          54,
          55,
          56,
          57,
          58,
          59,
          60
         ],
         "xaxis": "x2",
         "y": [
          40.070422535211264,
          39.99641577060932,
          40.216145833333336,
          40.1824480369515,
          40.710648148148145,
          39.528395061728396,
          40.73972602739726,
          42.08350730688935,
          41.13219616204691,
          41.0062893081761,
          41.84643510054845,
          40.10843373493976,
          41.525925925925925,
          41.19384057971015,
          41.289256198347104,
          42.027027027027025,
          41.45306859205776,
          41.68634064080944,
          41.4180602006689,
          41.41955835962145,
          42.12607944732297,
          42.17589576547231,
          40.61090909090909,
          40.99818181818182,
          42.10326086956522,
          41.71095152603232,
          41.66554054054054,
          40.88548057259714,
          42.79754601226994,
          42.65008576329331,
          43.06896551724138,
          42.607894736842105,
          41.88333333333333,
          42.33259911894273,
          42.0020964360587,
          41.28729281767956,
          40.78116343490305,
          41.232081911262796,
          42.760416666666664,
          42.13513513513514,
          42.31734317343174,
          41.153333333333336,
          41.33913043478261,
          41.98828125
         ],
         "yaxis": "y2"
        }
       ],
       "layout": {
        "annotations": [
         {
          "font": {
           "size": 16
          },
          "showarrow": false,
          "text": "Heures par semaine des Femmes",
          "x": 0.5,
          "xanchor": "center",
          "xref": "paper",
          "y": 1,
          "yanchor": "bottom",
          "yref": "paper"
         },
         {
          "font": {
           "size": 16
          },
          "showarrow": false,
          "text": "Revenu des Hommes",
          "x": 0.5,
          "xanchor": "center",
          "xref": "paper",
          "y": 0.375,
          "yanchor": "bottom",
          "yref": "paper"
         }
        ],
        "legend": {
         "title": {
          "text": "Variable"
         }
        },
        "template": {
         "data": {
          "bar": [
           {
            "error_x": {
             "color": "#2a3f5f"
            },
            "error_y": {
             "color": "#2a3f5f"
            },
            "marker": {
             "line": {
              "color": "white",
              "width": 0.5
             },
             "pattern": {
              "fillmode": "overlay",
              "size": 10,
              "solidity": 0.2
             }
            },
            "type": "bar"
           }
          ],
          "barpolar": [
           {
            "marker": {
             "line": {
              "color": "white",
              "width": 0.5
             },
             "pattern": {
              "fillmode": "overlay",
              "size": 10,
              "solidity": 0.2
             }
            },
            "type": "barpolar"
           }
          ],
          "carpet": [
           {
            "aaxis": {
             "endlinecolor": "#2a3f5f",
             "gridcolor": "#C8D4E3",
             "linecolor": "#C8D4E3",
             "minorgridcolor": "#C8D4E3",
             "startlinecolor": "#2a3f5f"
            },
            "baxis": {
             "endlinecolor": "#2a3f5f",
             "gridcolor": "#C8D4E3",
             "linecolor": "#C8D4E3",
             "minorgridcolor": "#C8D4E3",
             "startlinecolor": "#2a3f5f"
            },
            "type": "carpet"
           }
          ],
          "choropleth": [
           {
            "colorbar": {
             "outlinewidth": 0,
             "ticks": ""
            },
            "type": "choropleth"
           }
          ],
          "contour": [
           {
            "colorbar": {
             "outlinewidth": 0,
             "ticks": ""
            },
            "colorscale": [
             [
              0,
              "#0d0887"
             ],
             [
              0.1111111111111111,
              "#46039f"
             ],
             [
              0.2222222222222222,
              "#7201a8"
             ],
             [
              0.3333333333333333,
              "#9c179e"
             ],
             [
              0.4444444444444444,
              "#bd3786"
             ],
             [
              0.5555555555555556,
              "#d8576b"
             ],
             [
              0.6666666666666666,
              "#ed7953"
             ],
             [
              0.7777777777777778,
              "#fb9f3a"
             ],
             [
              0.8888888888888888,
              "#fdca26"
             ],
             [
              1,
              "#f0f921"
             ]
            ],
            "type": "contour"
           }
          ],
          "contourcarpet": [
           {
            "colorbar": {
             "outlinewidth": 0,
             "ticks": ""
            },
            "type": "contourcarpet"
           }
          ],
          "heatmap": [
           {
            "colorbar": {
             "outlinewidth": 0,
             "ticks": ""
            },
            "colorscale": [
             [
              0,
              "#0d0887"
             ],
             [
              0.1111111111111111,
              "#46039f"
             ],
             [
              0.2222222222222222,
              "#7201a8"
             ],
             [
              0.3333333333333333,
              "#9c179e"
             ],
             [
              0.4444444444444444,
              "#bd3786"
             ],
             [
              0.5555555555555556,
              "#d8576b"
             ],
             [
              0.6666666666666666,
              "#ed7953"
             ],
             [
              0.7777777777777778,
              "#fb9f3a"
             ],
             [
              0.8888888888888888,
              "#fdca26"
             ],
             [
              1,
              "#f0f921"
             ]
            ],
            "type": "heatmap"
           }
          ],
          "heatmapgl": [
           {
            "colorbar": {
             "outlinewidth": 0,
             "ticks": ""
            },
            "colorscale": [
             [
              0,
              "#0d0887"
             ],
             [
              0.1111111111111111,
              "#46039f"
             ],
             [
              0.2222222222222222,
              "#7201a8"
             ],
             [
              0.3333333333333333,
              "#9c179e"
             ],
             [
              0.4444444444444444,
              "#bd3786"
             ],
             [
              0.5555555555555556,
              "#d8576b"
             ],
             [
              0.6666666666666666,
              "#ed7953"
             ],
             [
              0.7777777777777778,
              "#fb9f3a"
             ],
             [
              0.8888888888888888,
              "#fdca26"
             ],
             [
              1,
              "#f0f921"
             ]
            ],
            "type": "heatmapgl"
           }
          ],
          "histogram": [
           {
            "marker": {
             "pattern": {
              "fillmode": "overlay",
              "size": 10,
              "solidity": 0.2
             }
            },
            "type": "histogram"
           }
          ],
          "histogram2d": [
           {
            "colorbar": {
             "outlinewidth": 0,
             "ticks": ""
            },
            "colorscale": [
             [
              0,
              "#0d0887"
             ],
             [
              0.1111111111111111,
              "#46039f"
             ],
             [
              0.2222222222222222,
              "#7201a8"
             ],
             [
              0.3333333333333333,
              "#9c179e"
             ],
             [
              0.4444444444444444,
              "#bd3786"
             ],
             [
              0.5555555555555556,
              "#d8576b"
             ],
             [
              0.6666666666666666,
              "#ed7953"
             ],
             [
              0.7777777777777778,
              "#fb9f3a"
             ],
             [
              0.8888888888888888,
              "#fdca26"
             ],
             [
              1,
              "#f0f921"
             ]
            ],
            "type": "histogram2d"
           }
          ],
          "histogram2dcontour": [
           {
            "colorbar": {
             "outlinewidth": 0,
             "ticks": ""
            },
            "colorscale": [
             [
              0,
              "#0d0887"
             ],
             [
              0.1111111111111111,
              "#46039f"
             ],
             [
              0.2222222222222222,
              "#7201a8"
             ],
             [
              0.3333333333333333,
              "#9c179e"
             ],
             [
              0.4444444444444444,
              "#bd3786"
             ],
             [
              0.5555555555555556,
              "#d8576b"
             ],
             [
              0.6666666666666666,
              "#ed7953"
             ],
             [
              0.7777777777777778,
              "#fb9f3a"
             ],
             [
              0.8888888888888888,
              "#fdca26"
             ],
             [
              1,
              "#f0f921"
             ]
            ],
            "type": "histogram2dcontour"
           }
          ],
          "mesh3d": [
           {
            "colorbar": {
             "outlinewidth": 0,
             "ticks": ""
            },
            "type": "mesh3d"
           }
          ],
          "parcoords": [
           {
            "line": {
             "colorbar": {
              "outlinewidth": 0,
              "ticks": ""
             }
            },
            "type": "parcoords"
           }
          ],
          "pie": [
           {
            "automargin": true,
            "type": "pie"
           }
          ],
          "scatter": [
           {
            "fillpattern": {
             "fillmode": "overlay",
             "size": 10,
             "solidity": 0.2
            },
            "type": "scatter"
           }
          ],
          "scatter3d": [
           {
            "line": {
             "colorbar": {
              "outlinewidth": 0,
              "ticks": ""
             }
            },
            "marker": {
             "colorbar": {
              "outlinewidth": 0,
              "ticks": ""
             }
            },
            "type": "scatter3d"
           }
          ],
          "scattercarpet": [
           {
            "marker": {
             "colorbar": {
              "outlinewidth": 0,
              "ticks": ""
             }
            },
            "type": "scattercarpet"
           }
          ],
          "scattergeo": [
           {
            "marker": {
             "colorbar": {
              "outlinewidth": 0,
              "ticks": ""
             }
            },
            "type": "scattergeo"
           }
          ],
          "scattergl": [
           {
            "marker": {
             "colorbar": {
              "outlinewidth": 0,
              "ticks": ""
             }
            },
            "type": "scattergl"
           }
          ],
          "scattermapbox": [
           {
            "marker": {
             "colorbar": {
              "outlinewidth": 0,
              "ticks": ""
             }
            },
            "type": "scattermapbox"
           }
          ],
          "scatterpolar": [
           {
            "marker": {
             "colorbar": {
              "outlinewidth": 0,
              "ticks": ""
             }
            },
            "type": "scatterpolar"
           }
          ],
          "scatterpolargl": [
           {
            "marker": {
             "colorbar": {
              "outlinewidth": 0,
              "ticks": ""
             }
            },
            "type": "scatterpolargl"
           }
          ],
          "scatterternary": [
           {
            "marker": {
             "colorbar": {
              "outlinewidth": 0,
              "ticks": ""
             }
            },
            "type": "scatterternary"
           }
          ],
          "surface": [
           {
            "colorbar": {
             "outlinewidth": 0,
             "ticks": ""
            },
            "colorscale": [
             [
              0,
              "#0d0887"
             ],
             [
              0.1111111111111111,
              "#46039f"
             ],
             [
              0.2222222222222222,
              "#7201a8"
             ],
             [
              0.3333333333333333,
              "#9c179e"
             ],
             [
              0.4444444444444444,
              "#bd3786"
             ],
             [
              0.5555555555555556,
              "#d8576b"
             ],
             [
              0.6666666666666666,
              "#ed7953"
             ],
             [
              0.7777777777777778,
              "#fb9f3a"
             ],
             [
              0.8888888888888888,
              "#fdca26"
             ],
             [
              1,
              "#f0f921"
             ]
            ],
            "type": "surface"
           }
          ],
          "table": [
           {
            "cells": {
             "fill": {
              "color": "#EBF0F8"
             },
             "line": {
              "color": "white"
             }
            },
            "header": {
             "fill": {
              "color": "#C8D4E3"
             },
             "line": {
              "color": "white"
             }
            },
            "type": "table"
           }
          ]
         },
         "layout": {
          "annotationdefaults": {
           "arrowcolor": "#2a3f5f",
           "arrowhead": 0,
           "arrowwidth": 1
          },
          "autotypenumbers": "strict",
          "coloraxis": {
           "colorbar": {
            "outlinewidth": 0,
            "ticks": ""
           }
          },
          "colorscale": {
           "diverging": [
            [
             0,
             "#8e0152"
            ],
            [
             0.1,
             "#c51b7d"
            ],
            [
             0.2,
             "#de77ae"
            ],
            [
             0.3,
             "#f1b6da"
            ],
            [
             0.4,
             "#fde0ef"
            ],
            [
             0.5,
             "#f7f7f7"
            ],
            [
             0.6,
             "#e6f5d0"
            ],
            [
             0.7,
             "#b8e186"
            ],
            [
             0.8,
             "#7fbc41"
            ],
            [
             0.9,
             "#4d9221"
            ],
            [
             1,
             "#276419"
            ]
           ],
           "sequential": [
            [
             0,
             "#0d0887"
            ],
            [
             0.1111111111111111,
             "#46039f"
            ],
            [
             0.2222222222222222,
             "#7201a8"
            ],
            [
             0.3333333333333333,
             "#9c179e"
            ],
            [
             0.4444444444444444,
             "#bd3786"
            ],
            [
             0.5555555555555556,
             "#d8576b"
            ],
            [
             0.6666666666666666,
             "#ed7953"
            ],
            [
             0.7777777777777778,
             "#fb9f3a"
            ],
            [
             0.8888888888888888,
             "#fdca26"
            ],
            [
             1,
             "#f0f921"
            ]
           ],
           "sequentialminus": [
            [
             0,
             "#0d0887"
            ],
            [
             0.1111111111111111,
             "#46039f"
            ],
            [
             0.2222222222222222,
             "#7201a8"
            ],
            [
             0.3333333333333333,
             "#9c179e"
            ],
            [
             0.4444444444444444,
             "#bd3786"
            ],
            [
             0.5555555555555556,
             "#d8576b"
            ],
            [
             0.6666666666666666,
             "#ed7953"
            ],
            [
             0.7777777777777778,
             "#fb9f3a"
            ],
            [
             0.8888888888888888,
             "#fdca26"
            ],
            [
             1,
             "#f0f921"
            ]
           ]
          },
          "colorway": [
           "#636efa",
           "#EF553B",
           "#00cc96",
           "#ab63fa",
           "#FFA15A",
           "#19d3f3",
           "#FF6692",
           "#B6E880",
           "#FF97FF",
           "#FECB52"
          ],
          "font": {
           "color": "#2a3f5f"
          },
          "geo": {
           "bgcolor": "white",
           "lakecolor": "white",
           "landcolor": "white",
           "showlakes": true,
           "showland": true,
           "subunitcolor": "#C8D4E3"
          },
          "hoverlabel": {
           "align": "left"
          },
          "hovermode": "closest",
          "mapbox": {
           "style": "light"
          },
          "paper_bgcolor": "white",
          "plot_bgcolor": "white",
          "polar": {
           "angularaxis": {
            "gridcolor": "#EBF0F8",
            "linecolor": "#EBF0F8",
            "ticks": ""
           },
           "bgcolor": "white",
           "radialaxis": {
            "gridcolor": "#EBF0F8",
            "linecolor": "#EBF0F8",
            "ticks": ""
           }
          },
          "scene": {
           "xaxis": {
            "backgroundcolor": "white",
            "gridcolor": "#DFE8F3",
            "gridwidth": 2,
            "linecolor": "#EBF0F8",
            "showbackground": true,
            "ticks": "",
            "zerolinecolor": "#EBF0F8"
           },
           "yaxis": {
            "backgroundcolor": "white",
            "gridcolor": "#DFE8F3",
            "gridwidth": 2,
            "linecolor": "#EBF0F8",
            "showbackground": true,
            "ticks": "",
            "zerolinecolor": "#EBF0F8"
           },
           "zaxis": {
            "backgroundcolor": "white",
            "gridcolor": "#DFE8F3",
            "gridwidth": 2,
            "linecolor": "#EBF0F8",
            "showbackground": true,
            "ticks": "",
            "zerolinecolor": "#EBF0F8"
           }
          },
          "shapedefaults": {
           "line": {
            "color": "#2a3f5f"
           }
          },
          "ternary": {
           "aaxis": {
            "gridcolor": "#DFE8F3",
            "linecolor": "#A2B1C6",
            "ticks": ""
           },
           "baxis": {
            "gridcolor": "#DFE8F3",
            "linecolor": "#A2B1C6",
            "ticks": ""
           },
           "bgcolor": "white",
           "caxis": {
            "gridcolor": "#DFE8F3",
            "linecolor": "#A2B1C6",
            "ticks": ""
           }
          },
          "title": {
           "x": 0.05
          },
          "xaxis": {
           "automargin": true,
           "gridcolor": "#EBF0F8",
           "linecolor": "#EBF0F8",
           "ticks": "",
           "title": {
            "standoff": 15
           },
           "zerolinecolor": "#EBF0F8",
           "zerolinewidth": 2
          },
          "yaxis": {
           "automargin": true,
           "gridcolor": "#EBF0F8",
           "linecolor": "#EBF0F8",
           "ticks": "",
           "title": {
            "standoff": 15
           },
           "zerolinecolor": "#EBF0F8",
           "zerolinewidth": 2
          }
         }
        },
        "title": {
         "text": "Comparaison des heures par semaine des Femmes et des Hommes selon l'Âge"
        },
        "xaxis": {
         "anchor": "y",
         "domain": [
          0,
          1
         ],
         "title": {
          "text": "Âge"
         }
        },
        "xaxis2": {
         "anchor": "y2",
         "domain": [
          0,
          1
         ]
        },
        "yaxis": {
         "anchor": "x",
         "domain": [
          0.625,
          1
         ],
         "title": {
          "text": "Moyenne des heures par semaine"
         }
        },
        "yaxis2": {
         "anchor": "x2",
         "domain": [
          0,
          0.375
         ]
        }
       }
      }
     },
     "metadata": {},
     "output_type": "display_data"
    }
   ],
   "source": [
    "\n",
    "# Créer un subplot avec 2 lignes\n",
    "fig = make_subplots(rows=2, cols=1, \n",
    "                    subplot_titles=(\"Heures par semaine des Femmes\", \"Revenu des Hommes\"))\n",
    "\n",
    "# Ajout des heures par semaine pour les femmes (rose)\n",
    "fig.add_trace(go.Scatter(\n",
    "    x=women_avg_hours['age'], \n",
    "    y=women_avg_hours['hours_per_week'], \n",
    "    mode='lines+markers',\n",
    "    name='Heures par semaine (Femmes)',\n",
    "    line=dict(color='lightpink'),  # Rose clair\n",
    "    marker=dict(color='pink'),       # Rose\n",
    "), row=1, col=1)\n",
    "\n",
    "# Ajout des heures par semaine pour les femmes dans synth (rose)\n",
    "fig.add_trace(go.Scatter(\n",
    "    x=women_avg_hours_synth['age'], \n",
    "    y=women_avg_hours_synth['hours_per_week'], \n",
    "    mode='lines+markers',\n",
    "    name='Heures par semaine (Femmes Synth)',\n",
    "    line=dict(color='red'),          # Rose\n",
    "    marker=dict(color='lightpink')   # Rose clair\n",
    "), row=1, col=1)\n",
    "\n",
    "# Ajout des heures par semaine pour les femmes dans synth 1000 (rose)\n",
    "\n",
    "fig.add_trace(go.Scatter(\n",
    "    x = women_avg_hours_synth_1['age'],\n",
    "    y = women_avg_hours_synth_1['hours_per_week'],\n",
    "    mode = 'lines+markers',\n",
    "    name = 'Heures par semaine (Femmes Synth 100)',\n",
    "    line = dict(color = 'yellow'),\n",
    "    marker = dict(color = 'yellow')\n",
    "), row = 1, col = 1)\n",
    "\n",
    "# Ajout des revenus pour les hommes (bleu)\n",
    "fig.add_trace(go.Scatter(\n",
    "    x=men_avg_income['age'], \n",
    "    y=men_avg_income['hours_per_week'], \n",
    "    mode='lines+markers',\n",
    "    name='Heures par semaines (Hommes)',\n",
    "    line=dict(color='blue'),         # Bleu\n",
    "    marker=dict(color='blue')   # Bleu clair\n",
    "), row=2, col=1)\n",
    "\n",
    "# Ajout des revenus pour les hommes dans synth (bleu clair)\n",
    "fig.add_trace(go.Scatter(\n",
    "    x=men_avg_income_synth['age'], \n",
    "    y=men_avg_income_synth['hours_per_week'], \n",
    "    mode='lines+markers',\n",
    "    name='Heures par semaines (Hommes Synth)',\n",
    "    line=dict(color='lightblue'),    # Bleu clair\n",
    "    marker=dict(color='lightblue')         # Bleu\n",
    "), row=2, col=1)\n",
    "\n",
    "# Ajout des revenus pour les hommes dans synth 1000 (bleu clair)\n",
    "fig.add_trace(go.Scatter(\n",
    "    x=men_avg_income_synth_1['age'],\n",
    "    y=men_avg_income_synth_1['hours_per_week'],\n",
    "    mode='lines+markers',\n",
    "    name='Heures par semaines (Hommes Synth 100)',\n",
    "    line=dict(color='green'),\n",
    "    marker=dict(color='green')\n",
    "), row=2, col=1)\n",
    "\n",
    "\n",
    "# Mise en forme du graphique\n",
    "fig.update_layout(\n",
    "    title=\"Comparaison des heures par semaine des Femmes et des Hommes selon l'Âge\",\n",
    "    xaxis_title=\"Âge\",\n",
    "    yaxis_title=\"Moyenne des heures par semaine\",\n",
    "    legend_title=\"Variable\",\n",
    "    template=\"plotly_white\"\n",
    ")\n",
    "\n",
    "# Affichage du graphique\n",
    "fig.show()\n"
   ]
  },
  {
   "cell_type": "code",
   "execution_count": null,
   "metadata": {},
   "outputs": [
    {
     "data": {
      "application/vnd.plotly.v1+json": {
       "config": {
        "plotlyServerURL": "https://plot.ly"
       },
       "data": [
        {
         "marker": {
          "color": "lightpink"
         },
         "name": "Heures par semaine (Femmes)",
         "opacity": 0.7,
         "type": "histogram",
         "x": [
          19.940860215053764,
          25.07089552238806,
          28.662921348314608,
          29.074380165289256,
          31.343465045592705,
          32.85964912280702,
          34.63509749303621,
          36.82295081967213,
          37.39936102236422,
          38.5,
          40.006802721088434,
          39.41290322580645,
          39.57564575645756,
          38.333333333333336,
          39.63120567375886,
          39.015686274509804,
          39.79607843137255,
          38.0739299610895,
          39.88211382113821,
          38.055749128919864,
          38.51528384279476,
          38.75847457627118,
          39.32421875,
          38.44106463878327,
          39.63090128755365,
          39.21052631578947,
          39.69432314410481,
          39.722772277227726,
          39.567567567567565,
          39.8640350877193,
          39.13084112149533,
          38.853801169590646,
          40,
          39.71153846153846,
          39.60122699386503,
          38.69402985074627,
          39.845588235294116,
          37.923809523809524,
          38.18248175182482,
          39.20754716981132,
          38.582417582417584,
          37.180952380952384,
          39.02127659574468,
          36.56962025316456
         ],
         "xaxis": "x",
         "yaxis": "y"
        },
        {
         "marker": {
          "color": "red"
         },
         "name": "Heures par semaine (Femmes Synth)",
         "opacity": 0.5,
         "type": "histogram",
         "x": [
          25.985,
          29.653696498054476,
          32.192192192192195,
          34.25074626865672,
          34.52870090634441,
          35.77158774373259,
          37.64324324324324,
          38.81686046511628,
          39.68471337579618,
          41.061093247588424,
          42.038216560509554,
          41.99348534201955,
          42.07865168539326,
          41.617747440273035,
          41.23859649122807,
          43.208835341365464,
          42.08771929824562,
          42.7037037037037,
          43.16896551724138,
          42.364583333333336,
          43.008,
          43.68348623853211,
          42.86142322097378,
          42.42307692307692,
          42.602409638554214,
          42.39565217391304,
          41.85572139303483,
          42.926829268292686,
          41.94444444444444,
          42.29032258064516,
          41.933673469387756,
          41.21568627450981,
          42.31428571428572,
          43.222857142857144,
          42.05161290322581,
          42.171875,
          41.609756097560975,
          43.71296296296296,
          42.282051282051285,
          41.65263157894737,
          44.241379310344826,
          39.81111111111111,
          40.53932584269663,
          40.71875
         ],
         "xaxis": "x",
         "yaxis": "y"
        },
        {
         "marker": {
          "color": "orange"
         },
         "name": "Heures par semaine (Femmes Synth 100)",
         "opacity": 0.5,
         "type": "histogram",
         "x": [
          40.4954128440367,
          38.83018867924528,
          40.41520467836257,
          39.40816326530612,
          39.794721407624635,
          40.384126984126986,
          41.294117647058826,
          39.895081967213116,
          41.311688311688314,
          38.954983922829584,
          40.8955223880597,
          40.01360544217687,
          40.411764705882355,
          40.455089820359284,
          40.75636363636364,
          41.776978417266186,
          40.934615384615384,
          41.28897338403042,
          40.63257575757576,
          41.348837209302324,
          38.713592233009706,
          41.47767857142857,
          40.504629629629626,
          41.17391304347826,
          40.865800865800864,
          40.62643678160919,
          40.643153526970956,
          41.67307692307692,
          40.34782608695652,
          39.46788990825688,
          41.629107981220656,
          41.66386554621849,
          39.21463414634146,
          39.108108108108105,
          39.523809523809526,
          41.091603053435115,
          40.592233009708735,
          40.93684210526316,
          41.795918367346935,
          39.79120879120879,
          41.13,
          41.705263157894734,
          41.945205479452056,
          41.11363636363637
         ],
         "xaxis": "x",
         "yaxis": "y"
        },
        {
         "marker": {
          "color": "blue"
         },
         "name": "Heures par semaine (Hommes)",
         "opacity": 0.7,
         "type": "histogram",
         "x": [
          22.636363636363637,
          26.71276595744681,
          32.693820224719104,
          35.264102564102565,
          36.29923273657289,
          37.040189125295505,
          38.16216216216216,
          40.49087221095335,
          41.553030303030305,
          42.567676767676765,
          43.144177449168204,
          43.48294434470377,
          43.760147601476014,
          43.947278911564624,
          44.38778877887789,
          44.596858638743456,
          44.269354838709674,
          44.925278219395864,
          45.48095238095238,
          45.700490998363335,
          45.59618441971383,
          46.16751269035533,
          45.691071428571426,
          44.4180790960452,
          44.51304347826087,
          44.86594202898551,
          44.75600739371534,
          45.83524904214559,
          44.91015625,
          44.282907662082515,
          44.945344129554655,
          45.215053763440864,
          45.33497536945813,
          45.437219730941706,
          44.673611111111114,
          44.66279069767442,
          44.73780487804878,
          44.15806451612903,
          44.269503546099294,
          43.223076923076924,
          43.78277153558052,
          42.333333333333336,
          43.030651340996165,
          41.88841201716738
         ],
         "xaxis": "x2",
         "yaxis": "y2"
        },
        {
         "marker": {
          "color": "lightblue"
         },
         "name": "Heures par semaine (Hommes Synth)",
         "opacity": 0.5,
         "type": "histogram",
         "x": [
          27.073529411764707,
          28.260563380281692,
          32.0186170212766,
          33.14878048780488,
          35.638242894056845,
          36.98048780487805,
          37.201195219123505,
          39.265795206971674,
          39.99812030075188,
          40.016949152542374,
          41.43604651162791,
          41.52127659574468,
          41.36598890942699,
          41.25964912280702,
          42.20764119601329,
          42.38850174216028,
          42.030560271646856,
          42.15901639344262,
          42.86241610738255,
          42.45171849427169,
          42.52396694214876,
          42.60358890701468,
          42.8125,
          41.2831541218638,
          42.084837545126355,
          42.525454545454544,
          42.90350877192982,
          43.316306483300586,
          42.534749034749034,
          42.46911196911197,
          42.56078431372549,
          42.622739018087856,
          42.17293233082707,
          42.24480369515012,
          42.80855855855856,
          41.722063037249285,
          41.44219653179191,
          41.6078431372549,
          41.83388704318937,
          41.49264705882353,
          42.014869888475836,
          41.026119402985074,
          42.29811320754717,
          39.887387387387385
         ],
         "xaxis": "x2",
         "yaxis": "y2"
        },
        {
         "marker": {
          "color": "green"
         },
         "name": "Heures par semaine (Hommes Synth 100)",
         "opacity": 0.5,
         "type": "histogram",
         "x": [
          40.070422535211264,
          39.99641577060932,
          40.216145833333336,
          40.1824480369515,
          40.710648148148145,
          39.528395061728396,
          40.73972602739726,
          42.08350730688935,
          41.13219616204691,
          41.0062893081761,
          41.84643510054845,
          40.10843373493976,
          41.525925925925925,
          41.19384057971015,
          41.289256198347104,
          42.027027027027025,
          41.45306859205776,
          41.68634064080944,
          41.4180602006689,
          41.41955835962145,
          42.12607944732297,
          42.17589576547231,
          40.61090909090909,
          40.99818181818182,
          42.10326086956522,
          41.71095152603232,
          41.66554054054054,
          40.88548057259714,
          42.79754601226994,
          42.65008576329331,
          43.06896551724138,
          42.607894736842105,
          41.88333333333333,
          42.33259911894273,
          42.0020964360587,
          41.28729281767956,
          40.78116343490305,
          41.232081911262796,
          42.760416666666664,
          42.13513513513514,
          42.31734317343174,
          41.153333333333336,
          41.33913043478261,
          41.98828125
         ],
         "xaxis": "x2",
         "yaxis": "y2"
        }
       ],
       "layout": {
        "annotations": [
         {
          "font": {
           "size": 16
          },
          "showarrow": false,
          "text": "Distribution des Heures par semaine des Femmes",
          "x": 0.5,
          "xanchor": "center",
          "xref": "paper",
          "y": 1,
          "yanchor": "bottom",
          "yref": "paper"
         },
         {
          "font": {
           "size": 16
          },
          "showarrow": false,
          "text": "Distribution des Heures par semaine des Hommes",
          "x": 0.5,
          "xanchor": "center",
          "xref": "paper",
          "y": 0.375,
          "yanchor": "bottom",
          "yref": "paper"
         }
        ],
        "barmode": "overlay",
        "template": {
         "data": {
          "bar": [
           {
            "error_x": {
             "color": "#2a3f5f"
            },
            "error_y": {
             "color": "#2a3f5f"
            },
            "marker": {
             "line": {
              "color": "white",
              "width": 0.5
             },
             "pattern": {
              "fillmode": "overlay",
              "size": 10,
              "solidity": 0.2
             }
            },
            "type": "bar"
           }
          ],
          "barpolar": [
           {
            "marker": {
             "line": {
              "color": "white",
              "width": 0.5
             },
             "pattern": {
              "fillmode": "overlay",
              "size": 10,
              "solidity": 0.2
             }
            },
            "type": "barpolar"
           }
          ],
          "carpet": [
           {
            "aaxis": {
             "endlinecolor": "#2a3f5f",
             "gridcolor": "#C8D4E3",
             "linecolor": "#C8D4E3",
             "minorgridcolor": "#C8D4E3",
             "startlinecolor": "#2a3f5f"
            },
            "baxis": {
             "endlinecolor": "#2a3f5f",
             "gridcolor": "#C8D4E3",
             "linecolor": "#C8D4E3",
             "minorgridcolor": "#C8D4E3",
             "startlinecolor": "#2a3f5f"
            },
            "type": "carpet"
           }
          ],
          "choropleth": [
           {
            "colorbar": {
             "outlinewidth": 0,
             "ticks": ""
            },
            "type": "choropleth"
           }
          ],
          "contour": [
           {
            "colorbar": {
             "outlinewidth": 0,
             "ticks": ""
            },
            "colorscale": [
             [
              0,
              "#0d0887"
             ],
             [
              0.1111111111111111,
              "#46039f"
             ],
             [
              0.2222222222222222,
              "#7201a8"
             ],
             [
              0.3333333333333333,
              "#9c179e"
             ],
             [
              0.4444444444444444,
              "#bd3786"
             ],
             [
              0.5555555555555556,
              "#d8576b"
             ],
             [
              0.6666666666666666,
              "#ed7953"
             ],
             [
              0.7777777777777778,
              "#fb9f3a"
             ],
             [
              0.8888888888888888,
              "#fdca26"
             ],
             [
              1,
              "#f0f921"
             ]
            ],
            "type": "contour"
           }
          ],
          "contourcarpet": [
           {
            "colorbar": {
             "outlinewidth": 0,
             "ticks": ""
            },
            "type": "contourcarpet"
           }
          ],
          "heatmap": [
           {
            "colorbar": {
             "outlinewidth": 0,
             "ticks": ""
            },
            "colorscale": [
             [
              0,
              "#0d0887"
             ],
             [
              0.1111111111111111,
              "#46039f"
             ],
             [
              0.2222222222222222,
              "#7201a8"
             ],
             [
              0.3333333333333333,
              "#9c179e"
             ],
             [
              0.4444444444444444,
              "#bd3786"
             ],
             [
              0.5555555555555556,
              "#d8576b"
             ],
             [
              0.6666666666666666,
              "#ed7953"
             ],
             [
              0.7777777777777778,
              "#fb9f3a"
             ],
             [
              0.8888888888888888,
              "#fdca26"
             ],
             [
              1,
              "#f0f921"
             ]
            ],
            "type": "heatmap"
           }
          ],
          "heatmapgl": [
           {
            "colorbar": {
             "outlinewidth": 0,
             "ticks": ""
            },
            "colorscale": [
             [
              0,
              "#0d0887"
             ],
             [
              0.1111111111111111,
              "#46039f"
             ],
             [
              0.2222222222222222,
              "#7201a8"
             ],
             [
              0.3333333333333333,
              "#9c179e"
             ],
             [
              0.4444444444444444,
              "#bd3786"
             ],
             [
              0.5555555555555556,
              "#d8576b"
             ],
             [
              0.6666666666666666,
              "#ed7953"
             ],
             [
              0.7777777777777778,
              "#fb9f3a"
             ],
             [
              0.8888888888888888,
              "#fdca26"
             ],
             [
              1,
              "#f0f921"
             ]
            ],
            "type": "heatmapgl"
           }
          ],
          "histogram": [
           {
            "marker": {
             "pattern": {
              "fillmode": "overlay",
              "size": 10,
              "solidity": 0.2
             }
            },
            "type": "histogram"
           }
          ],
          "histogram2d": [
           {
            "colorbar": {
             "outlinewidth": 0,
             "ticks": ""
            },
            "colorscale": [
             [
              0,
              "#0d0887"
             ],
             [
              0.1111111111111111,
              "#46039f"
             ],
             [
              0.2222222222222222,
              "#7201a8"
             ],
             [
              0.3333333333333333,
              "#9c179e"
             ],
             [
              0.4444444444444444,
              "#bd3786"
             ],
             [
              0.5555555555555556,
              "#d8576b"
             ],
             [
              0.6666666666666666,
              "#ed7953"
             ],
             [
              0.7777777777777778,
              "#fb9f3a"
             ],
             [
              0.8888888888888888,
              "#fdca26"
             ],
             [
              1,
              "#f0f921"
             ]
            ],
            "type": "histogram2d"
           }
          ],
          "histogram2dcontour": [
           {
            "colorbar": {
             "outlinewidth": 0,
             "ticks": ""
            },
            "colorscale": [
             [
              0,
              "#0d0887"
             ],
             [
              0.1111111111111111,
              "#46039f"
             ],
             [
              0.2222222222222222,
              "#7201a8"
             ],
             [
              0.3333333333333333,
              "#9c179e"
             ],
             [
              0.4444444444444444,
              "#bd3786"
             ],
             [
              0.5555555555555556,
              "#d8576b"
             ],
             [
              0.6666666666666666,
              "#ed7953"
             ],
             [
              0.7777777777777778,
              "#fb9f3a"
             ],
             [
              0.8888888888888888,
              "#fdca26"
             ],
             [
              1,
              "#f0f921"
             ]
            ],
            "type": "histogram2dcontour"
           }
          ],
          "mesh3d": [
           {
            "colorbar": {
             "outlinewidth": 0,
             "ticks": ""
            },
            "type": "mesh3d"
           }
          ],
          "parcoords": [
           {
            "line": {
             "colorbar": {
              "outlinewidth": 0,
              "ticks": ""
             }
            },
            "type": "parcoords"
           }
          ],
          "pie": [
           {
            "automargin": true,
            "type": "pie"
           }
          ],
          "scatter": [
           {
            "fillpattern": {
             "fillmode": "overlay",
             "size": 10,
             "solidity": 0.2
            },
            "type": "scatter"
           }
          ],
          "scatter3d": [
           {
            "line": {
             "colorbar": {
              "outlinewidth": 0,
              "ticks": ""
             }
            },
            "marker": {
             "colorbar": {
              "outlinewidth": 0,
              "ticks": ""
             }
            },
            "type": "scatter3d"
           }
          ],
          "scattercarpet": [
           {
            "marker": {
             "colorbar": {
              "outlinewidth": 0,
              "ticks": ""
             }
            },
            "type": "scattercarpet"
           }
          ],
          "scattergeo": [
           {
            "marker": {
             "colorbar": {
              "outlinewidth": 0,
              "ticks": ""
             }
            },
            "type": "scattergeo"
           }
          ],
          "scattergl": [
           {
            "marker": {
             "colorbar": {
              "outlinewidth": 0,
              "ticks": ""
             }
            },
            "type": "scattergl"
           }
          ],
          "scattermapbox": [
           {
            "marker": {
             "colorbar": {
              "outlinewidth": 0,
              "ticks": ""
             }
            },
            "type": "scattermapbox"
           }
          ],
          "scatterpolar": [
           {
            "marker": {
             "colorbar": {
              "outlinewidth": 0,
              "ticks": ""
             }
            },
            "type": "scatterpolar"
           }
          ],
          "scatterpolargl": [
           {
            "marker": {
             "colorbar": {
              "outlinewidth": 0,
              "ticks": ""
             }
            },
            "type": "scatterpolargl"
           }
          ],
          "scatterternary": [
           {
            "marker": {
             "colorbar": {
              "outlinewidth": 0,
              "ticks": ""
             }
            },
            "type": "scatterternary"
           }
          ],
          "surface": [
           {
            "colorbar": {
             "outlinewidth": 0,
             "ticks": ""
            },
            "colorscale": [
             [
              0,
              "#0d0887"
             ],
             [
              0.1111111111111111,
              "#46039f"
             ],
             [
              0.2222222222222222,
              "#7201a8"
             ],
             [
              0.3333333333333333,
              "#9c179e"
             ],
             [
              0.4444444444444444,
              "#bd3786"
             ],
             [
              0.5555555555555556,
              "#d8576b"
             ],
             [
              0.6666666666666666,
              "#ed7953"
             ],
             [
              0.7777777777777778,
              "#fb9f3a"
             ],
             [
              0.8888888888888888,
              "#fdca26"
             ],
             [
              1,
              "#f0f921"
             ]
            ],
            "type": "surface"
           }
          ],
          "table": [
           {
            "cells": {
             "fill": {
              "color": "#EBF0F8"
             },
             "line": {
              "color": "white"
             }
            },
            "header": {
             "fill": {
              "color": "#C8D4E3"
             },
             "line": {
              "color": "white"
             }
            },
            "type": "table"
           }
          ]
         },
         "layout": {
          "annotationdefaults": {
           "arrowcolor": "#2a3f5f",
           "arrowhead": 0,
           "arrowwidth": 1
          },
          "autotypenumbers": "strict",
          "coloraxis": {
           "colorbar": {
            "outlinewidth": 0,
            "ticks": ""
           }
          },
          "colorscale": {
           "diverging": [
            [
             0,
             "#8e0152"
            ],
            [
             0.1,
             "#c51b7d"
            ],
            [
             0.2,
             "#de77ae"
            ],
            [
             0.3,
             "#f1b6da"
            ],
            [
             0.4,
             "#fde0ef"
            ],
            [
             0.5,
             "#f7f7f7"
            ],
            [
             0.6,
             "#e6f5d0"
            ],
            [
             0.7,
             "#b8e186"
            ],
            [
             0.8,
             "#7fbc41"
            ],
            [
             0.9,
             "#4d9221"
            ],
            [
             1,
             "#276419"
            ]
           ],
           "sequential": [
            [
             0,
             "#0d0887"
            ],
            [
             0.1111111111111111,
             "#46039f"
            ],
            [
             0.2222222222222222,
             "#7201a8"
            ],
            [
             0.3333333333333333,
             "#9c179e"
            ],
            [
             0.4444444444444444,
             "#bd3786"
            ],
            [
             0.5555555555555556,
             "#d8576b"
            ],
            [
             0.6666666666666666,
             "#ed7953"
            ],
            [
             0.7777777777777778,
             "#fb9f3a"
            ],
            [
             0.8888888888888888,
             "#fdca26"
            ],
            [
             1,
             "#f0f921"
            ]
           ],
           "sequentialminus": [
            [
             0,
             "#0d0887"
            ],
            [
             0.1111111111111111,
             "#46039f"
            ],
            [
             0.2222222222222222,
             "#7201a8"
            ],
            [
             0.3333333333333333,
             "#9c179e"
            ],
            [
             0.4444444444444444,
             "#bd3786"
            ],
            [
             0.5555555555555556,
             "#d8576b"
            ],
            [
             0.6666666666666666,
             "#ed7953"
            ],
            [
             0.7777777777777778,
             "#fb9f3a"
            ],
            [
             0.8888888888888888,
             "#fdca26"
            ],
            [
             1,
             "#f0f921"
            ]
           ]
          },
          "colorway": [
           "#636efa",
           "#EF553B",
           "#00cc96",
           "#ab63fa",
           "#FFA15A",
           "#19d3f3",
           "#FF6692",
           "#B6E880",
           "#FF97FF",
           "#FECB52"
          ],
          "font": {
           "color": "#2a3f5f"
          },
          "geo": {
           "bgcolor": "white",
           "lakecolor": "white",
           "landcolor": "white",
           "showlakes": true,
           "showland": true,
           "subunitcolor": "#C8D4E3"
          },
          "hoverlabel": {
           "align": "left"
          },
          "hovermode": "closest",
          "mapbox": {
           "style": "light"
          },
          "paper_bgcolor": "white",
          "plot_bgcolor": "white",
          "polar": {
           "angularaxis": {
            "gridcolor": "#EBF0F8",
            "linecolor": "#EBF0F8",
            "ticks": ""
           },
           "bgcolor": "white",
           "radialaxis": {
            "gridcolor": "#EBF0F8",
            "linecolor": "#EBF0F8",
            "ticks": ""
           }
          },
          "scene": {
           "xaxis": {
            "backgroundcolor": "white",
            "gridcolor": "#DFE8F3",
            "gridwidth": 2,
            "linecolor": "#EBF0F8",
            "showbackground": true,
            "ticks": "",
            "zerolinecolor": "#EBF0F8"
           },
           "yaxis": {
            "backgroundcolor": "white",
            "gridcolor": "#DFE8F3",
            "gridwidth": 2,
            "linecolor": "#EBF0F8",
            "showbackground": true,
            "ticks": "",
            "zerolinecolor": "#EBF0F8"
           },
           "zaxis": {
            "backgroundcolor": "white",
            "gridcolor": "#DFE8F3",
            "gridwidth": 2,
            "linecolor": "#EBF0F8",
            "showbackground": true,
            "ticks": "",
            "zerolinecolor": "#EBF0F8"
           }
          },
          "shapedefaults": {
           "line": {
            "color": "#2a3f5f"
           }
          },
          "ternary": {
           "aaxis": {
            "gridcolor": "#DFE8F3",
            "linecolor": "#A2B1C6",
            "ticks": ""
           },
           "baxis": {
            "gridcolor": "#DFE8F3",
            "linecolor": "#A2B1C6",
            "ticks": ""
           },
           "bgcolor": "white",
           "caxis": {
            "gridcolor": "#DFE8F3",
            "linecolor": "#A2B1C6",
            "ticks": ""
           }
          },
          "title": {
           "x": 0.05
          },
          "xaxis": {
           "automargin": true,
           "gridcolor": "#EBF0F8",
           "linecolor": "#EBF0F8",
           "ticks": "",
           "title": {
            "standoff": 15
           },
           "zerolinecolor": "#EBF0F8",
           "zerolinewidth": 2
          },
          "yaxis": {
           "automargin": true,
           "gridcolor": "#EBF0F8",
           "linecolor": "#EBF0F8",
           "ticks": "",
           "title": {
            "standoff": 15
           },
           "zerolinecolor": "#EBF0F8",
           "zerolinewidth": 2
          }
         }
        },
        "title": {
         "text": "Distribution des Heures par semaine selon le Sexe"
        },
        "xaxis": {
         "anchor": "y",
         "domain": [
          0,
          1
         ],
         "title": {
          "text": "Ages des individus"
         }
        },
        "xaxis2": {
         "anchor": "y2",
         "domain": [
          0,
          1
         ]
        },
        "yaxis": {
         "anchor": "x",
         "domain": [
          0.625,
          1
         ],
         "title": {
          "text": "heures de travail moyennes\npar semaine"
         }
        },
        "yaxis2": {
         "anchor": "x2",
         "domain": [
          0,
          0.375
         ]
        }
       }
      }
     },
     "metadata": {},
     "output_type": "display_data"
    }
   ],
   "source": [
    "\n",
    "# Créer un subplot avec 2 lignes et 1 colonne pour les histogrammes\n",
    "fig = make_subplots(rows=2, cols=1, \n",
    "                    subplot_titles=(\"Distribution des Heures par semaine des Femmes\", \n",
    "                                    \"Distribution des Heures par semaine des Hommes\"))\n",
    "\n",
    "# Ajout de l'histogramme des heures par semaine pour les femmes (rose)\n",
    "fig.add_trace(go.Histogram(\n",
    "    x=women_avg_hours['hours_per_week'],  # Données des femmes\n",
    "    name='Heures par semaine (Femmes)',\n",
    "    marker_color='lightpink',  # Couleur rose\n",
    "    opacity=0.7\n",
    "), row=1, col=1)\n",
    "\n",
    "# Ajout de l'histogramme des heures par semaine pour les femmes synthétiques (rouge)\n",
    "fig.add_trace(go.Histogram(\n",
    "    x=women_avg_hours_synth['hours_per_week'],  # Données synthétiques des femmes\n",
    "    name='Heures par semaine (Femmes Synth)',\n",
    "    marker_color='red',  # Couleur rouge\n",
    "    opacity=0.5\n",
    "), row=1, col=1)\n",
    "\n",
    "# Ajout de l'histogramme des heures par semaine pour les femmes synthétiques 1000 (orange)\n",
    "fig.add_trace(go.Histogram(\n",
    "    x=women_avg_hours_synth_1['hours_per_week'],  # Données synthétiques 1000 des femmes\n",
    "    name='Heures par semaine (Femmes Synth 100)',\n",
    "    marker_color='orange',  # Couleur orange\n",
    "    opacity=0.5\n",
    "), row=1, col=1)\n",
    "\n",
    "# Ajout de l'histogramme des heures par semaine pour les hommes (bleu)\n",
    "fig.add_trace(go.Histogram(\n",
    "    x=men_avg_income['hours_per_week'],  # Données des hommes\n",
    "    name='Heures par semaine (Hommes)',\n",
    "    marker_color='blue',  # Couleur bleue\n",
    "    opacity=0.7\n",
    "), row=2, col=1)\n",
    "\n",
    "# Ajout de l'histogramme des heures par semaine pour les hommes synthétiques (bleu clair)\n",
    "fig.add_trace(go.Histogram(\n",
    "    x=men_avg_income_synth['hours_per_week'],  # Données synthétiques des hommes\n",
    "    name='Heures par semaine (Hommes Synth)',\n",
    "    marker_color='lightblue',  # Couleur bleu clair\n",
    "    opacity=0.5\n",
    "), row=2, col=1)\n",
    "\n",
    "# Ajout de l'histogramme des heures par semaine pour les hommes synthétiques 1000 (vert)\n",
    "fig.add_trace(go.Histogram(\n",
    "    x=men_avg_income_synth_1['hours_per_week'],  # Données synthétiques 1000 des hommes\n",
    "    name='Heures par semaine (Hommes Synth 100)',\n",
    "    marker_color='green',  # Couleur verte\n",
    "    opacity=0.5\n",
    "), row=2, col=1)\n",
    "\n",
    "# Mise en forme du graphique\n",
    "fig.update_layout(\n",
    "    title=\"Distribution des Heures par semaine selon le Sexe\",\n",
    "    xaxis_title=\"Ages des individus\",\n",
    "    yaxis_title=\"heures de travail moyennes\\npar semaine\",\n",
    "    barmode='overlay',  # Superposer les histogrammes\n",
    "    template=\"plotly_white\"\n",
    ")\n",
    "\n",
    "# Affichage du graphique\n",
    "fig.show()\n"
   ]
  },
  {
   "cell_type": "markdown",
   "metadata": {},
   "source": [
    "## How does the correlation between education level (education_num), hours worked per week (hours_per_week), and the likelihood of earning >50K vary across different work classes (workclass)?"
   ]
  },
  {
   "cell_type": "markdown",
   "metadata": {},
   "source": []
  },
  {
   "cell_type": "code",
   "execution_count": null,
   "metadata": {},
   "outputs": [],
   "source": [
    "pums = pd.read_csv(\"adult.data\", header=None, names=[\n",
    "    \"age\", \"workclass\", \"fnlwgt\", \"education\", \"education_num\", \"marital_status\", \"occupation\", \n",
    "    \"relationship\", \"race\", \"sex\", \"capital_gain\", \"capital_loss\", \"hours_per_week\", \"native_country\", \"income\"])\n"
   ]
  },
  {
   "cell_type": "code",
   "execution_count": null,
   "metadata": {},
   "outputs": [
    {
     "name": "stderr",
     "output_type": "stream",
     "text": [
      "/var/folders/6l/ghb5053j4rg4ys8zwp_wnmjw0000gn/T/ipykernel_30321/724046005.py:2: FutureWarning:\n",
      "\n",
      "Downcasting behavior in `replace` is deprecated and will be removed in a future version. To retain the old behavior, explicitly call `result.infer_objects(copy=False)`. To opt-in to the future behavior, set `pd.set_option('future.no_silent_downcasting', True)`\n",
      "\n",
      "/var/folders/6l/ghb5053j4rg4ys8zwp_wnmjw0000gn/T/ipykernel_30321/724046005.py:3: FutureWarning:\n",
      "\n",
      "Downcasting behavior in `replace` is deprecated and will be removed in a future version. To retain the old behavior, explicitly call `result.infer_objects(copy=False)`. To opt-in to the future behavior, set `pd.set_option('future.no_silent_downcasting', True)`\n",
      "\n",
      "/var/folders/6l/ghb5053j4rg4ys8zwp_wnmjw0000gn/T/ipykernel_30321/724046005.py:4: FutureWarning:\n",
      "\n",
      "Downcasting behavior in `replace` is deprecated and will be removed in a future version. To retain the old behavior, explicitly call `result.infer_objects(copy=False)`. To opt-in to the future behavior, set `pd.set_option('future.no_silent_downcasting', True)`\n",
      "\n"
     ]
    }
   ],
   "source": [
    "# Strip leading/trailing whitespaces from 'income' column and map to binary values\n",
    "pums['income'] = pums['income'].str.strip().replace({'<=50K': 0, '>50K': 1})\n",
    "pums_synth['income'] = pums_synth['income'].str.strip().replace({'<=50K': 0, '>50K': 1})\n",
    "pums_synth_1['income'] = pums_synth_1['income'].str.strip().replace({'<=50K': 0, '>50K': 1})\n",
    "\n",
    "# Group by workclass\n",
    "grouped = pums.groupby('workclass')\n"
   ]
  },
  {
   "cell_type": "code",
   "execution_count": null,
   "metadata": {},
   "outputs": [
    {
     "name": "stdout",
     "output_type": "stream",
     "text": [
      "income\n",
      "0    24720\n",
      "1     7841\n",
      "Name: count, dtype: int64\n"
     ]
    }
   ],
   "source": [
    "print(pums['income'].value_counts())"
   ]
  },
  {
   "cell_type": "code",
   "execution_count": null,
   "metadata": {},
   "outputs": [],
   "source": [
    "# Non private data"
   ]
  },
  {
   "cell_type": "code",
   "execution_count": null,
   "metadata": {},
   "outputs": [
    {
     "name": "stdout",
     "output_type": "stream",
     "text": [
      "Optimization terminated successfully.\n",
      "         Current function value: 0.428692\n",
      "         Iterations 7\n",
      "Optimization terminated successfully.\n",
      "         Current function value: 0.521954\n",
      "         Iterations 6\n",
      "Optimization terminated successfully.\n",
      "         Current function value: 0.524477\n",
      "         Iterations 6\n",
      "                           Logit Regression Results                           \n",
      "==============================================================================\n",
      "Dep. Variable:                 income   No. Observations:                32561\n",
      "Model:                          Logit   Df Residuals:                    32556\n",
      "Method:                           MLE   Df Model:                            4\n",
      "Date:                Thu, 03 Oct 2024   Pseudo R-squ.:                  0.2234\n",
      "Time:                        13:42:10   Log-Likelihood:                -13959.\n",
      "converged:                       True   LL-Null:                       -17974.\n",
      "Covariance Type:            nonrobust   LLR p-value:                     0.000\n",
      "==================================================================================\n",
      "                     coef    std err          z      P>|z|      [0.025      0.975]\n",
      "----------------------------------------------------------------------------------\n",
      "Intercept         -9.1334      0.116    -78.934      0.000      -9.360      -8.907\n",
      "sex[T. Male]       1.1612      0.038     30.804      0.000       1.087       1.235\n",
      "age                0.0456      0.001     38.464      0.000       0.043       0.048\n",
      "education_num      0.3551      0.007     53.666      0.000       0.342       0.368\n",
      "hours_per_week     0.0356      0.001     27.559      0.000       0.033       0.038\n",
      "==================================================================================\n",
      "                           Logit Regression Results                           \n",
      "==============================================================================\n",
      "Dep. Variable:                 income   No. Observations:                32561\n",
      "Model:                          Logit   Df Residuals:                    32556\n",
      "Method:                           MLE   Df Model:                            4\n",
      "Date:                Thu, 03 Oct 2024   Pseudo R-squ.:                 0.05147\n",
      "Time:                        13:42:10   Log-Likelihood:                -16995.\n",
      "converged:                       True   LL-Null:                       -17918.\n",
      "Covariance Type:            nonrobust   LLR p-value:                     0.000\n",
      "==================================================================================\n",
      "                     coef    std err          z      P>|z|      [0.025      0.975]\n",
      "----------------------------------------------------------------------------------\n",
      "Intercept         -3.0147      0.081    -37.209      0.000      -3.174      -2.856\n",
      "sex[T.male]        1.0823      0.033     32.326      0.000       1.017       1.148\n",
      "age                0.0200      0.001     21.834      0.000       0.018       0.022\n",
      "education_num      0.0154      0.005      2.925      0.003       0.005       0.026\n",
      "hours_per_week     0.0025      0.001      2.374      0.018       0.000       0.005\n",
      "==================================================================================\n",
      "-------------------\n",
      "                           Logit Regression Results                           \n",
      "==============================================================================\n",
      "Dep. Variable:                 income   No. Observations:                32561\n",
      "Model:                          Logit   Df Residuals:                    32556\n",
      "Method:                           MLE   Df Model:                            4\n",
      "Date:                Thu, 03 Oct 2024   Pseudo R-squ.:                 0.04994\n",
      "Time:                        13:42:10   Log-Likelihood:                -17077.\n",
      "converged:                       True   LL-Null:                       -17975.\n",
      "Covariance Type:            nonrobust   LLR p-value:                     0.000\n",
      "==================================================================================\n",
      "                     coef    std err          z      P>|z|      [0.025      0.975]\n",
      "----------------------------------------------------------------------------------\n",
      "Intercept         -2.8784      0.081    -35.714      0.000      -3.036      -2.720\n",
      "sex[T.male]        1.0316      0.033     31.369      0.000       0.967       1.096\n",
      "age                0.0214      0.001     22.241      0.000       0.019       0.023\n",
      "education_num     -0.0054      0.005     -1.035      0.301      -0.016       0.005\n",
      "hours_per_week     0.0044      0.001      4.031      0.000       0.002       0.006\n",
      "==================================================================================\n"
     ]
    }
   ],
   "source": [
    "#print(pums.head())\n",
    "\n",
    "import statsmodels.formula.api as smf\n",
    "\n",
    "# Fit a logistic regression model\n",
    "model = smf.logit('income ~ age + education_num + hours_per_week + sex', data=pums).fit()\n",
    "model_1 = smf.logit('income ~ age + education_num + hours_per_week + sex', data=pums_synth_1).fit()\n",
    "model_100 = smf.logit('income ~ age + education_num + hours_per_week +sex', data=pums_synth).fit()\n",
    "\n",
    "# Print the summary\n",
    "print(model.summary())\n",
    "#print('-------------------')\n",
    "print(model_1.summary())\n",
    "print('-------------------')\n",
    "print(model_100.summary())\n",
    "\n",
    "\n",
    "\n",
    "\n"
   ]
  },
  {
   "cell_type": "code",
   "execution_count": null,
   "metadata": {},
   "outputs": [
    {
     "name": "stdout",
     "output_type": "stream",
     "text": [
      "Null deviance: 35948.079435306325\n",
      "Residual deviance: 27917.30608744315\n",
      "Chi-deux Statistic: 8030.77\n",
      "Degrees of Freedom: 4.0\n",
      "P-value: 0.000e+00\n",
      "Le modèle est significatif au niveau de 5%.\n"
     ]
    }
   ],
   "source": [
    "import statsmodels.api as sm\n",
    "from scipy import stats\n",
    "\n",
    "df_model = model.df_model\n",
    "\n",
    "null_deviance = -2 * model.llnull\n",
    "print(\"Null deviance:\", null_deviance)\n",
    "\n",
    "# residual deviance = -2 * log likelihood du modèle complet\n",
    "residual_deviance = -2 * model.llf\n",
    "print(\"Residual deviance:\", residual_deviance)\n",
    "\n",
    "chi2_stat = null_deviance - residual_deviance\n",
    "\n",
    "# Calcul du p-value\n",
    "p_value = 1 - stats.chi2.cdf(chi2_stat, df_model)\n",
    "\n",
    "print(f\"Chi-deux Statistic: {chi2_stat:.2f}\")\n",
    "print(f\"Degrees of Freedom: {df_model}\")\n",
    "print(f\"P-value: {p_value:.3e}\")\n",
    "\n",
    "# Interprétation\n",
    "if p_value < 0.05:\n",
    "    print(\"Le modèle est significatif au niveau de 5%.\")\n",
    "else:\n",
    "    print(\"Le modèle n'est pas significatif au niveau de 5%.\")\n",
    "\n"
   ]
  },
  {
   "cell_type": "code",
   "execution_count": null,
   "metadata": {},
   "outputs": [
    {
     "name": "stdout",
     "output_type": "stream",
     "text": [
      "Null deviance: 35835.14738780934\n",
      "Residual deviance: 33990.65914360038\n",
      "Chi-deux Statistic: 1844.49\n",
      "Degrees of Freedom: 4.0\n",
      "P-value: 0.000e+00\n",
      "Le modèle est significatif au niveau de 5%.\n"
     ]
    }
   ],
   "source": [
    "\n",
    "\n",
    "df_model_1 = model_1.df_model\n",
    "\n",
    "null_deviance = -2 * model_1.llnull\n",
    "print(\"Null deviance:\", null_deviance)\n",
    "\n",
    "# residual deviance = -2 * log likelihood du modèle complet\n",
    "residual_deviance = -2 * model_1.llf\n",
    "print(\"Residual deviance:\", residual_deviance)\n",
    "\n",
    "chi2_stat = null_deviance - residual_deviance\n",
    "\n",
    "# Calcul du p-value\n",
    "p_value = 1 - stats.chi2.cdf(chi2_stat, df_model_1)\n",
    "\n",
    "print(f\"Chi-deux Statistic: {chi2_stat:.2f}\")\n",
    "print(f\"Degrees of Freedom: {df_model_1}\")\n",
    "print(f\"P-value: {p_value:.3e}\")\n",
    "\n",
    "# Interprétation\n",
    "if p_value < 0.05:\n",
    "    print(\"Le modèle est significatif au niveau de 5%.\")\n",
    "else:\n",
    "    print(\"Le modèle n'est pas significatif au niveau de 5%.\")\n",
    "\n"
   ]
  },
  {
   "cell_type": "code",
   "execution_count": null,
   "metadata": {},
   "outputs": [
    {
     "name": "stdout",
     "output_type": "stream",
     "text": [
      "Null deviance: 35950.375761232055\n",
      "Residual deviance: 34154.96226198315\n",
      "Chi-deux Statistic: 1795.41\n",
      "Degrees of Freedom: 4.0\n",
      "P-value: 0.000e+00\n",
      "Le modèle est significatif au niveau de 5%.\n"
     ]
    }
   ],
   "source": [
    "\n",
    "df_model_100 = model_100.df_model\n",
    "\n",
    "null_deviance = -2 * model_100.llnull\n",
    "print(\"Null deviance:\", null_deviance)\n",
    "\n",
    "# residual deviance = -2 * log likelihood du modèle complet\n",
    "residual_deviance = -2 * model_100.llf\n",
    "print(\"Residual deviance:\", residual_deviance)\n",
    "\n",
    "chi2_stat = null_deviance - residual_deviance\n",
    "\n",
    "# Calcul du p-value\n",
    "p_value = 1 - stats.chi2.cdf(chi2_stat, df_model_100)\n",
    "\n",
    "print(f\"Chi-deux Statistic: {chi2_stat:.2f}\")\n",
    "print(f\"Degrees of Freedom: {df_model_100}\")\n",
    "print(f\"P-value: {p_value:.3e}\")\n",
    "\n",
    "# Interprétation\n",
    "if p_value < 0.05:\n",
    "    print(\"Le modèle est significatif au niveau de 5%.\")\n",
    "else:\n",
    "    print(\"Le modèle n'est pas significatif au niveau de 5%.\")\n",
    "\n"
   ]
  }
 ],
 "metadata": {
  "kernelspec": {
   "display_name": "myenv",
   "language": "python",
   "name": "python3"
  },
  "language_info": {
   "codemirror_mode": {
    "name": "ipython",
    "version": 3
   },
   "file_extension": ".py",
   "mimetype": "text/x-python",
   "name": "python",
   "nbconvert_exporter": "python",
   "pygments_lexer": "ipython3",
   "version": "3.12.6"
  }
 },
 "nbformat": 4,
 "nbformat_minor": 2
}
